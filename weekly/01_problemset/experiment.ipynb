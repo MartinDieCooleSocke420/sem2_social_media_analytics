{
 "cells": [
  {
   "cell_type": "markdown",
   "metadata": {},
   "source": [
    "# Exersice 1 \n"
   ]
  },
  {
   "cell_type": "code",
   "execution_count": 1,
   "metadata": {},
   "outputs": [],
   "source": [
    "import requests\n",
    "import pandas as pd\n",
    "from bs4 import BeautifulSoup"
   ]
  },
  {
   "cell_type": "code",
   "execution_count": 61,
   "metadata": {},
   "outputs": [],
   "source": [
    "## defining variables\n",
    "\n",
    "# the URL is the given URL from wich the html code is downloaded\n",
    "url = \"https://www.dw.com/en/why-south-korean-women-arent-having-babies/a-68419317\"\n",
    "html = requests.get(url).text\n",
    "soup = BeautifulSoup(html, \"html.parser\")\n"
   ]
  },
  {
   "cell_type": "markdown",
   "metadata": {},
   "source": [
    "things to find and to extract:\n",
    "- author\n",
    "- date\n",
    "- title\n",
    "- summary\n",
    "- main text\n",
    "- related topics"
   ]
  },
  {
   "cell_type": "code",
   "execution_count": 62,
   "metadata": {},
   "outputs": [
    {
     "data": {
      "text/plain": [
       "[<div class=\"sc-eJmhDG idUFGW sc-hlaTbY hAvlGg author-details\"><span><a class=\"sc-ivDvhZ iBEcrE sc-bZCZoC jpmmcy sc-jeWJQQ hErddM sc-JPTJM cuFVzT author author-link\" href=\"/en/julian-ryall/person-35986545\">Julian Ryall</a></span></div>]"
      ]
     },
     "execution_count": 62,
     "metadata": {},
     "output_type": "execute_result"
    }
   ],
   "source": [
    "# the author can be found out with the class \"author-details\"\n",
    "soup.find_all(\"div\", class_=\"author-details\")"
   ]
  },
  {
   "cell_type": "code",
   "execution_count": 63,
   "metadata": {},
   "outputs": [
    {
     "data": {
      "text/plain": [
       "<time aria-hidden=\"true\">03/01/2024</time>"
      ]
     },
     "execution_count": 63,
     "metadata": {},
     "output_type": "execute_result"
    }
   ],
   "source": [
    "# the time tag represents an entry with the corresbonding time date\n",
    "soup.time"
   ]
  },
  {
   "cell_type": "code",
   "execution_count": 64,
   "metadata": {},
   "outputs": [
    {
     "data": {
      "text/plain": [
       "<title data-rh=\"true\">Why South Korean women aren't having babies – DW – 03/01/2024</title>"
      ]
     },
     "execution_count": 64,
     "metadata": {},
     "output_type": "execute_result"
    }
   ],
   "source": [
    "# finding out the title\n",
    "soup.title"
   ]
  },
  {
   "cell_type": "code",
   "execution_count": 65,
   "metadata": {},
   "outputs": [
    {
     "data": {
      "text/plain": [
       "<p class=\"sc-ivDvhZ iBEcrE sc-bYUneI clArVt sc-kMbQoj bDRlQg sc-cCIIiH kgqfmn sc-BbNMx bBsUeI teaser-text\">New statistics show a record low number of children were born last year in South Korea, with women citing a desire for a career and to push back against a male-dominated society as key reasons.</p>"
      ]
     },
     "execution_count": 65,
     "metadata": {},
     "output_type": "execute_result"
    }
   ],
   "source": [
    "# the first paragraph printed on the side is the summary\n",
    "soup.p"
   ]
  },
  {
   "cell_type": "code",
   "execution_count": 67,
   "metadata": {},
   "outputs": [
    {
     "data": {
      "text/plain": [
       "[<p class=\"sc-ivDvhZ iBEcrE sc-bYUneI clArVt sc-kMbQoj bDRlQg sc-cCIIiH kgqfmn sc-BbNMx bBsUeI teaser-text\">New statistics show a record low number of children were born last year in South Korea, with women citing a desire for a career and to push back against a male-dominated society as key reasons.</p>,\n",
       " <p>When she was younger, Hyobin Lee yearned to be a mother. There came a point, however, when she had to make a difficult decision. Ultimately, she chose her career over a family and is now a successful academic in the South Korean city of Daejeon.</p>,\n",
       " <p>Lee, now 44, is just one of millions of Korean women who are making a conscious decision to remain childless — resulting in the nation's fertility rate dropping to a new record low.</p>,\n",
       " <p>The fertility rate — the average number of births per woman — shrank to 0.72 last year, according to preliminary government statistics released on Wednesday, down from 0.78 in the previous year and continuing the gradual annual decline since 2015.</p>,\n",
       " <p>That figure is well below the 2.1 children required to maintain <a class=\"internal-link\" href=\"/en/south-korea/t-63357867\">South Korea's</a> population, with the mere 230,000 children born last year hinting that the nation's total population is on course to fall to around 26 million — half the current total — by 2100.</p>,\n",
       " <p>\"When I was young, I dreamed of having a son who looked like me,\" Lee told DW. \"I wanted to play with him, to read together and show him much of the world. But I have come to realize that reality is not so simple.\"</p>,\n",
       " <p>\"I chose not to have children because of my career,\" she said. \"Having and raising a child would cause problem for my career and I fear I would resent the child for that reason. And as a consequence, both the child and I would be unhappy.\"</p>,\n",
       " <p class=\"vjs-no-js\">To view this video please enable JavaScript, and consider upgrading to a web browser that <a href=\"https://videojs.com/html5-video-support/\" target=\"_blank\">supports HTML5 video</a></p>,\n",
       " <p>A successful career in Korea's male-dominated society is one reason that many women give for opting to remain childless, but there are many more, Lee points out.</p>,\n",
       " <p>\"Economic issues play a significant role and despite various childbirth policies designed to support women, these measures are not functioning as intended,\" she said.</p>,\n",
       " <p>Parental leave, for example, is by law available for both men and women, but it is overwhelmingly perceived and utilized by women.</p>,\n",
       " <p>Just 1.3% of Korean men use their parental leave entitlement, compared to an average of 43.4% across the 38 states of the <a class=\"internal-link\" href=\"/en/oecd-organization-for-economic-cooperation-and-development/t-17437710\">Organization for Economic Cooperation and Development</a>(OECD).</p>,\n",
       " <p>This means that Korean companies are reluctant to hire young women as they fear that they will invest in training a new member of staff only for her to leave after she become pregnant and then focus on being a full-time mother rather than returning to the workforce.</p>,\n",
       " <p>\"In Korea, there is still a prevalent culture that believes bearing children and all aspects of childcare are solely the responsibility of women,\" Lee added. \"The challenge of simultaneously managing childbirth and childcare is so daunting that many women choose not to have children at all. This can be said for me as well.\"</p>,\n",
       " <p>Jungmin Kwon, an associate professor at Portland State University in Oregon who specializes in East Asian popular culture, agrees that the pressures of South Korean society can be stifling.</p>,\n",
       " <p>\"According to many studies, significant factors include the cost and effort involved in childcare,\" she said.</p>,\n",
       " <p>\"Korea is famous for its extensive private education market and it is difficult to go against an atmosphere in which it is taken for granted that parents will spend a lot of money on various private education programs from a young age in order to compete with other children.\"</p>,\n",
       " <p>\"More importantly, in the current patriarchal culture, where women are expected to bear the majority of the mental and physical energy required to raise children, childbirth and childcare are challenging choices for women,\" Kwon said, pointing out that statistics show that women still do five times more housework and childcare duties than men.</p>,\n",
       " <p class=\"vjs-no-js\">To view this video please enable JavaScript, and consider upgrading to a web browser that <a href=\"https://videojs.com/html5-video-support/\" target=\"_blank\">supports HTML5 video</a></p>,\n",
       " <p>\"In a situation where respect and consideration for women working across society have not yet taken root, managing both home and career smoothly is a challenging and stressful task for women.\"</p>,\n",
       " <p>And the consequence of that, she points out, is that as gender education levels become more equal and women have more economic resources and choices in their occupation than in the past, they are discovering many ways to live without relying on men.</p>,\n",
       " <p>\"Many women do not want to constrain their lives by choosing not only not to have children, but also not to get married,\" Kwon said.</p>,\n",
       " <p>Aggressive efforts by recent South Korean governments to boost the birth rate — including additional benefits for families with multiple children and support for single-parent families — have clearly failed to turn the tide, Lee points out, and have had the unanticipated consequence of fueling resentment among men.</p>,\n",
       " <p>\"They feel aggrieved that they have to complete mandatory military service and they argue that there is no equivalent obligation for women, yet women benefit from numerous supportive policies,\" she said.</p>,\n",
       " <p>It was this sector of the voting public that in part secured Yoon Suk Yeol's victory in the presidential election of May 2022 after he vowed during the campaign to abolish the <a class=\"internal-link\" href=\"/en/south-korea-gender-divide-becomes-key-election-issue/a-60481392\">Ministry of Gender Equality and Family</a>.</p>,\n",
       " <p>Both Lee and Kwon are pessimistic that South Korea's population crisis can be overcome, with Lee saying that young women appear to have no interest in responding to the nation's needs.</p>,\n",
       " <p>\"There is a pervasive belief that issues of birth rates and social pressure are not their concern,\" she said. \"The younger generation's prevalent individualism means that social pressures are unlikely to aid in improving birth rates.\"</p>,\n",
       " <p>Kwon echoes that assessment.</p>,\n",
       " <p>\"Young women today have dissimilar perspectives about family, marriage, childbirth, community and the nation-state from previous generations.</p>,\n",
       " <p>\"They are less entrapped by the ‘obligations of being a woman' imposed by patriarchal states, societies and households,\" she said.</p>,\n",
       " <p>\"Currently it is not feasible for patriarchal structures to change overnight and, accordingly, it's also pessimistic to think that women will have children to increase Korea's birth rate.\"</p>,\n",
       " <p class=\"vjs-no-js\">To view this video please enable JavaScript, and consider upgrading to a web browser that <a href=\"https://videojs.com/html5-video-support/\" target=\"_blank\">supports HTML5 video</a></p>,\n",
       " <p><em>Edited by: Keith Walker</em></p>]"
      ]
     },
     "execution_count": 67,
     "metadata": {},
     "output_type": "execute_result"
    }
   ],
   "source": [
    "# get the text of the article\n",
    "# ignore the p class=cookie__text and <p class=\"vjs-no-js\n",
    "\n",
    "soup.find_all(\"p\")\n"
   ]
  },
  {
   "cell_type": "code",
   "execution_count": 68,
   "metadata": {},
   "outputs": [
    {
     "data": {
      "text/plain": [
       "<aside class=\"sc-dktgqL jiTpiJ start\"><a class=\"sc-ivDvhZ iBEcrE sc-ivDvhZ iBEcrE sc-iJfdHH djgAGb sc-ezGUZh kTEIUz sc-iAfmwU gMPYoa sc-cUfYYG kOVITf sc-khksUn cjmyLp sc-byiLte bfEvOw\" href=\"/en/minorities/t-50781525\" role=\"button\" tabindex=\"0\">Minorities</a><a class=\"sc-ivDvhZ iBEcrE sc-ivDvhZ iBEcrE sc-iJfdHH djgAGb sc-ezGUZh kTEIUz sc-iAfmwU gMPYoa sc-cUfYYG kOVITf sc-khksUn cjmyLp sc-byiLte bfEvOw\" href=\"/en/womens-rights/t-17455067\" role=\"button\" tabindex=\"0\">Women's rights</a><a class=\"sc-ivDvhZ iBEcrE sc-ivDvhZ iBEcrE sc-iJfdHH djgAGb sc-ezGUZh kTEIUz sc-iAfmwU gMPYoa sc-cUfYYG kOVITf sc-khksUn cjmyLp sc-byiLte bfEvOw\" href=\"/en/south-korea/t-63357867\" role=\"button\" tabindex=\"0\">South Korea</a></aside>"
      ]
     },
     "execution_count": 68,
     "metadata": {},
     "output_type": "execute_result"
    }
   ],
   "source": [
    "# the tag asside returns other topics related to the article\n",
    "soup.aside"
   ]
  },
  {
   "cell_type": "code",
   "execution_count": 69,
   "metadata": {},
   "outputs": [
    {
     "name": "stdout",
     "output_type": "stream",
     "text": [
      "Output with the .getText Method: 03/01/2024\n"
     ]
    }
   ],
   "source": [
    "# for further use with the function .getText() the html boilerplate can be removed only the pure text gets displayed\n",
    "print(\"Output with the .getText Method: \" + soup.time.getText())\n",
    "\n",
    "# the string now has to be converted into a time-datatype to make the future work more easy\n",
    "# the further analysis of the data is not topic of this exersice and will be conducted in futher research"
   ]
  },
  {
   "cell_type": "markdown",
   "metadata": {},
   "source": [
    "# Exersice 2"
   ]
  },
  {
   "cell_type": "code",
   "execution_count": 8,
   "metadata": {},
   "outputs": [],
   "source": [
    "import datetime\n",
    "import time"
   ]
  },
  {
   "cell_type": "code",
   "execution_count": 9,
   "metadata": {},
   "outputs": [],
   "source": [
    "url = \"https://www.dw.com/search/?languageCode=en\"\n",
    "html = requests.get(url).text\n",
    "soup = BeautifulSoup(html, \"html.parser\")"
   ]
  },
  {
   "cell_type": "code",
   "execution_count": 10,
   "metadata": {},
   "outputs": [],
   "source": [
    "\n",
    "# the button that loades the next entries has the class=\"addPage\"\n",
    "\n"
   ]
  },
  {
   "cell_type": "markdown",
   "metadata": {},
   "source": [
    "in the following the task will be split into two code-blocks\n",
    "in the first block all URL's to articles since 01.03.2024 will be collected\n",
    "\n",
    "in the second code block the relevant data will be extracted from all the links"
   ]
  },
  {
   "cell_type": "code",
   "execution_count": 18,
   "metadata": {},
   "outputs": [
    {
     "name": "stdout",
     "output_type": "stream",
     "text": [
      "Now scraping page 10\n"
     ]
    },
    {
     "name": "stdout",
     "output_type": "stream",
     "text": [
      "Now scraping page 20\n",
      "Now scraping page 30\n",
      "Now scraping page 40\n",
      "Now scraping page 50\n",
      "Now scraping page 60\n",
      "Now scraping page 70\n",
      "Now scraping page 80\n",
      "Now scraping page 90\n",
      "Now scraping page 100\n",
      "Now scraping page 110\n",
      "Now scraping page 120\n",
      "Now scraping page 130\n",
      "Now scraping page 140\n",
      "Now scraping page 150\n",
      "Now scraping page 160\n",
      "Now scraping page 170\n",
      "Now scraping page 180\n",
      "Now scraping page 190\n",
      "Now scraping page 200\n",
      "Now scraping page 210\n",
      "Now scraping page 220\n",
      "Now scraping page 230\n",
      "Now scraping page 240\n",
      "Now scraping page 250\n",
      "Now scraping page 260\n",
      "Now scraping page 270\n",
      "Now scraping page 280\n",
      "Now scraping page 290\n",
      "Now scraping page 300\n",
      "Now scraping page 310\n",
      "Now scraping page 320\n",
      "Now scraping page 330\n",
      "Now scraping page 340\n",
      "Now scraping page 350\n",
      "Now scraping page 360\n",
      "Now scraping page 370\n",
      "Now scraping page 380\n",
      "Now scraping page 390\n",
      "Now scraping page 400\n",
      "Now scraping page 410\n",
      "Now scraping page 420\n",
      "Now scraping page 430\n",
      "Now scraping page 440\n"
     ]
    },
    {
     "name": "stderr",
     "output_type": "stream",
     "text": [
      "Exception ignored in: <bound method IPythonKernel._clean_thread_parent_frames of <ipykernel.ipkernel.IPythonKernel object at 0x7f2b156657f0>>\n",
      "Traceback (most recent call last):\n",
      "  File \"/home/mbrucker/uni/sem2_social_media_analytics/.venv/lib/python3.12/site-packages/ipykernel/ipkernel.py\", line 770, in _clean_thread_parent_frames\n",
      "    def _clean_thread_parent_frames(\n",
      "\n",
      "KeyboardInterrupt: \n"
     ]
    },
    {
     "name": "stdout",
     "output_type": "stream",
     "text": [
      "Now scraping page 450\n",
      "Now scraping page 460\n",
      "Now scraping page 470\n",
      "Now scraping page 480\n",
      "Now scraping page 490\n",
      "Now scraping page 500\n",
      "Now scraping page 510\n",
      "Now scraping page 520\n",
      "Now scraping page 530\n",
      "Now scraping page 540\n",
      "Now scraping page 550\n",
      "Now scraping page 560\n",
      "Now scraping page 570\n",
      "Now scraping page 580\n",
      "Now scraping page 590\n",
      "Now scraping page 600\n",
      "Now scraping page 610\n",
      "Now scraping page 620\n",
      "Now scraping page 630\n",
      "Now scraping page 640\n",
      "Now scraping page 650\n",
      "Now scraping page 660\n",
      "Now scraping page 670\n",
      "Now scraping page 680\n"
     ]
    },
    {
     "ename": "KeyboardInterrupt",
     "evalue": "",
     "output_type": "error",
     "traceback": [
      "\u001b[0;31m---------------------------------------------------------------------------\u001b[0m",
      "\u001b[0;31mKeyboardInterrupt\u001b[0m                         Traceback (most recent call last)",
      "Cell \u001b[0;32mIn[18], line 28\u001b[0m\n\u001b[1;32m     24\u001b[0m         more_pages \u001b[38;5;241m=\u001b[39m \u001b[38;5;28;01mFalse\u001b[39;00m\n\u001b[1;32m     26\u001b[0m     latest_date \u001b[38;5;241m=\u001b[39m soup\u001b[38;5;241m.\u001b[39mfind_all(name\u001b[38;5;241m=\u001b[39m\u001b[38;5;124m\"\u001b[39m\u001b[38;5;124mspan\u001b[39m\u001b[38;5;124m\"\u001b[39m, attrs\u001b[38;5;241m=\u001b[39m{\u001b[38;5;124m\"\u001b[39m\u001b[38;5;124mclass\u001b[39m\u001b[38;5;124m\"\u001b[39m : \u001b[38;5;124m\"\u001b[39m\u001b[38;5;124mdate\u001b[39m\u001b[38;5;124m\"\u001b[39m})[\u001b[38;5;241m-\u001b[39m\u001b[38;5;241m1\u001b[39m]\u001b[38;5;241m.\u001b[39mgetText()\n\u001b[0;32m---> 28\u001b[0m     \u001b[43mtime\u001b[49m\u001b[38;5;241;43m.\u001b[39;49m\u001b[43msleep\u001b[49m\u001b[43m(\u001b[49m\u001b[38;5;241;43m1\u001b[39;49m\u001b[43m)\u001b[49m   \n\u001b[1;32m     30\u001b[0m articleLinks\n",
      "\u001b[0;31mKeyboardInterrupt\u001b[0m: "
     ]
    }
   ],
   "source": [
    "articleLinks = []\n",
    "page = 10\n",
    "more_pages = True\n",
    "\n",
    "while more_pages == True:\n",
    "\n",
    "    print(f\"Now scraping page {page}\")\n",
    "\n",
    "    url = f\"https://www.dw.com/search/?languageCode=en&sort=DATE&resultsCounter={page}\"\n",
    "    html = requests.get(url).text\n",
    "    soup = BeautifulSoup(html, \"html.parser\")\n",
    "    \n",
    "    news = soup.select(\"div.searchResult\")\n",
    "    articleLinks.extend([article.a[\"href\"] for article in news])\n",
    "\n",
    "\n",
    "    ## abbruchbedingung wenn das Datum des letzten Artikels vor dem 01.03.2024 liegt\n",
    "    if datetime.datetime.strptime(latest_date, \"%d.%m.%Y\") < datetime.datetime.strptime(\"2024-03-01\", \"%Y-%m-%d\"):\n",
    "        more_pages = False\n",
    "\n",
    "    if soup.select(\"a.addPage\"):\n",
    "        page += 10\n",
    "    else:\n",
    "        more_pages = False\n",
    "\n",
    "    latest_date = soup.find_all(name=\"span\", attrs={\"class\" : \"date\"})[-1].getText()\n",
    "\n",
    "    time.sleep(1)   \n",
    "\n",
    "articleLinks"
   ]
  },
  {
   "cell_type": "code",
   "execution_count": 16,
   "metadata": {},
   "outputs": [
    {
     "data": {
      "text/plain": [
       "25"
      ]
     },
     "execution_count": 16,
     "metadata": {},
     "output_type": "execute_result"
    }
   ],
   "source": [
    "# transforming the array with "
   ]
  },
  {
   "cell_type": "code",
   "execution_count": 29,
   "metadata": {},
   "outputs": [
    {
     "data": {
      "text/plain": [
       "'/en/finland-one-dead-in-primary-school-shooting/a-68716526'"
      ]
     },
     "execution_count": 29,
     "metadata": {},
     "output_type": "execute_result"
    }
   ],
   "source": [
    "articleLinks[3]"
   ]
  },
  {
   "cell_type": "code",
   "execution_count": 81,
   "metadata": {},
   "outputs": [
    {
     "name": "stdout",
     "output_type": "stream",
     "text": [
      "Now scraping article 0 from 23460 articles\n",
      "https://www.dw.com/en/the-77-percent-is-senegal-sending-a-message-to-young-africans/av-68720617\n"
     ]
    },
    {
     "name": "stdout",
     "output_type": "stream",
     "text": [
      "Now scraping article 1 from 23460 articles\n",
      "https://www.dw.com/en/india-implements-contentious-citizenship-law/av-68720795\n",
      "Now scraping article 2 from 23460 articles\n",
      "https://www.dw.com/en/how-getting-rid-of-your-asphalt-driveway-can-help-reduce-city-heat/a-68673663\n",
      "Now scraping article 3 from 23460 articles\n",
      "https://www.dw.com/en/finland-one-dead-in-primary-school-shooting/a-68716526\n",
      "Now scraping article 4 from 23460 articles\n",
      "https://www.dw.com/en/scientific-racisms-roots-in-colonization/a-67624247\n"
     ]
    },
    {
     "ename": "KeyboardInterrupt",
     "evalue": "",
     "output_type": "error",
     "traceback": [
      "\u001b[0;31m---------------------------------------------------------------------------\u001b[0m",
      "\u001b[0;31mKeyboardInterrupt\u001b[0m                         Traceback (most recent call last)",
      "Cell \u001b[0;32mIn[81], line 22\u001b[0m\n\u001b[1;32m     20\u001b[0m data[\u001b[38;5;124m\"\u001b[39m\u001b[38;5;124mdate\u001b[39m\u001b[38;5;124m\"\u001b[39m] \u001b[38;5;241m=\u001b[39m soup\u001b[38;5;241m.\u001b[39mtime\n\u001b[1;32m     21\u001b[0m data[\u001b[38;5;124m\"\u001b[39m\u001b[38;5;124mtitle\u001b[39m\u001b[38;5;124m\"\u001b[39m] \u001b[38;5;241m=\u001b[39m soup\u001b[38;5;241m.\u001b[39mtitle \n\u001b[0;32m---> 22\u001b[0m data[\u001b[38;5;124m\"\u001b[39m\u001b[38;5;124msummary\u001b[39m\u001b[38;5;124m\"\u001b[39m] \u001b[38;5;241m=\u001b[39m \u001b[43msoup\u001b[49m\u001b[38;5;241;43m.\u001b[39;49m\u001b[43mfind_all\u001b[49m\u001b[43m(\u001b[49m\u001b[43mclass_\u001b[49m\u001b[38;5;241;43m=\u001b[39;49m\u001b[38;5;124;43m\"\u001b[39;49m\u001b[38;5;124;43mteaser-text\u001b[39;49m\u001b[38;5;124;43m\"\u001b[39;49m\u001b[43m)\u001b[49m\n\u001b[1;32m     23\u001b[0m data[\u001b[38;5;124m\"\u001b[39m\u001b[38;5;124mmain_text\u001b[39m\u001b[38;5;124m\"\u001b[39m] \u001b[38;5;241m=\u001b[39m soup\u001b[38;5;241m.\u001b[39mfind_all(\u001b[38;5;124m\"\u001b[39m\u001b[38;5;124mp\u001b[39m\u001b[38;5;124m\"\u001b[39m)\n\u001b[1;32m     24\u001b[0m data[\u001b[38;5;124m\"\u001b[39m\u001b[38;5;124mrelated_topics\u001b[39m\u001b[38;5;124m\"\u001b[39m] \u001b[38;5;241m=\u001b[39m soup\u001b[38;5;241m.\u001b[39maside\n",
      "File \u001b[0;32m~/uni/sem2_social_media_analytics/.venv/lib/python3.12/site-packages/bs4/element.py:2035\u001b[0m, in \u001b[0;36mTag.find_all\u001b[0;34m(self, name, attrs, recursive, string, limit, **kwargs)\u001b[0m\n\u001b[1;32m   2033\u001b[0m     generator \u001b[38;5;241m=\u001b[39m \u001b[38;5;28mself\u001b[39m\u001b[38;5;241m.\u001b[39mchildren\n\u001b[1;32m   2034\u001b[0m _stacklevel \u001b[38;5;241m=\u001b[39m kwargs\u001b[38;5;241m.\u001b[39mpop(\u001b[38;5;124m'\u001b[39m\u001b[38;5;124m_stacklevel\u001b[39m\u001b[38;5;124m'\u001b[39m, \u001b[38;5;241m2\u001b[39m)\n\u001b[0;32m-> 2035\u001b[0m \u001b[38;5;28;01mreturn\u001b[39;00m \u001b[38;5;28;43mself\u001b[39;49m\u001b[38;5;241;43m.\u001b[39;49m\u001b[43m_find_all\u001b[49m\u001b[43m(\u001b[49m\u001b[43mname\u001b[49m\u001b[43m,\u001b[49m\u001b[43m \u001b[49m\u001b[43mattrs\u001b[49m\u001b[43m,\u001b[49m\u001b[43m \u001b[49m\u001b[43mstring\u001b[49m\u001b[43m,\u001b[49m\u001b[43m \u001b[49m\u001b[43mlimit\u001b[49m\u001b[43m,\u001b[49m\u001b[43m \u001b[49m\u001b[43mgenerator\u001b[49m\u001b[43m,\u001b[49m\n\u001b[1;32m   2036\u001b[0m \u001b[43m                      \u001b[49m\u001b[43m_stacklevel\u001b[49m\u001b[38;5;241;43m=\u001b[39;49m\u001b[43m_stacklevel\u001b[49m\u001b[38;5;241;43m+\u001b[39;49m\u001b[38;5;241;43m1\u001b[39;49m\u001b[43m,\u001b[49m\u001b[43m \u001b[49m\u001b[38;5;241;43m*\u001b[39;49m\u001b[38;5;241;43m*\u001b[39;49m\u001b[43mkwargs\u001b[49m\u001b[43m)\u001b[49m\n",
      "File \u001b[0;32m~/uni/sem2_social_media_analytics/.venv/lib/python3.12/site-packages/bs4/element.py:841\u001b[0m, in \u001b[0;36mPageElement._find_all\u001b[0;34m(self, name, attrs, string, limit, generator, **kwargs)\u001b[0m\n\u001b[1;32m    839\u001b[0m     \u001b[38;5;28;01mbreak\u001b[39;00m\n\u001b[1;32m    840\u001b[0m \u001b[38;5;28;01mif\u001b[39;00m i:\n\u001b[0;32m--> 841\u001b[0m     found \u001b[38;5;241m=\u001b[39m \u001b[43mstrainer\u001b[49m\u001b[38;5;241;43m.\u001b[39;49m\u001b[43msearch\u001b[49m\u001b[43m(\u001b[49m\u001b[43mi\u001b[49m\u001b[43m)\u001b[49m\n\u001b[1;32m    842\u001b[0m     \u001b[38;5;28;01mif\u001b[39;00m found:\n\u001b[1;32m    843\u001b[0m         results\u001b[38;5;241m.\u001b[39mappend(found)\n",
      "File \u001b[0;32m~/uni/sem2_social_media_analytics/.venv/lib/python3.12/site-packages/bs4/element.py:2325\u001b[0m, in \u001b[0;36mSoupStrainer.search\u001b[0;34m(self, markup)\u001b[0m\n\u001b[1;32m   2323\u001b[0m \u001b[38;5;28;01melif\u001b[39;00m \u001b[38;5;28misinstance\u001b[39m(markup, Tag):\n\u001b[1;32m   2324\u001b[0m     \u001b[38;5;28;01mif\u001b[39;00m \u001b[38;5;129;01mnot\u001b[39;00m \u001b[38;5;28mself\u001b[39m\u001b[38;5;241m.\u001b[39mstring \u001b[38;5;129;01mor\u001b[39;00m \u001b[38;5;28mself\u001b[39m\u001b[38;5;241m.\u001b[39mname \u001b[38;5;129;01mor\u001b[39;00m \u001b[38;5;28mself\u001b[39m\u001b[38;5;241m.\u001b[39mattrs:\n\u001b[0;32m-> 2325\u001b[0m         found \u001b[38;5;241m=\u001b[39m \u001b[38;5;28;43mself\u001b[39;49m\u001b[38;5;241;43m.\u001b[39;49m\u001b[43msearch_tag\u001b[49m\u001b[43m(\u001b[49m\u001b[43mmarkup\u001b[49m\u001b[43m)\u001b[49m\n\u001b[1;32m   2326\u001b[0m \u001b[38;5;66;03m# If it's text, make sure the text matches.\u001b[39;00m\n\u001b[1;32m   2327\u001b[0m \u001b[38;5;28;01melif\u001b[39;00m \u001b[38;5;28misinstance\u001b[39m(markup, NavigableString) \u001b[38;5;129;01mor\u001b[39;00m \\\n\u001b[1;32m   2328\u001b[0m          \u001b[38;5;28misinstance\u001b[39m(markup, \u001b[38;5;28mstr\u001b[39m):\n",
      "File \u001b[0;32m~/uni/sem2_social_media_analytics/.venv/lib/python3.12/site-packages/bs4/element.py:2279\u001b[0m, in \u001b[0;36mSoupStrainer.search_tag\u001b[0;34m(self, markup_name, markup_attrs)\u001b[0m\n\u001b[1;32m   2277\u001b[0m match \u001b[38;5;241m=\u001b[39m \u001b[38;5;28;01mTrue\u001b[39;00m\n\u001b[1;32m   2278\u001b[0m markup_attr_map \u001b[38;5;241m=\u001b[39m \u001b[38;5;28;01mNone\u001b[39;00m\n\u001b[0;32m-> 2279\u001b[0m \u001b[38;5;28;01mfor\u001b[39;00m attr, match_against \u001b[38;5;129;01min\u001b[39;00m \u001b[38;5;28;43mlist\u001b[39;49m\u001b[43m(\u001b[49m\u001b[38;5;28;43mself\u001b[39;49m\u001b[38;5;241;43m.\u001b[39;49m\u001b[43mattrs\u001b[49m\u001b[38;5;241;43m.\u001b[39;49m\u001b[43mitems\u001b[49m\u001b[43m(\u001b[49m\u001b[43m)\u001b[49m\u001b[43m)\u001b[49m:\n\u001b[1;32m   2280\u001b[0m     \u001b[38;5;28;01mif\u001b[39;00m \u001b[38;5;129;01mnot\u001b[39;00m markup_attr_map:\n\u001b[1;32m   2281\u001b[0m         \u001b[38;5;28;01mif\u001b[39;00m \u001b[38;5;28mhasattr\u001b[39m(markup_attrs, \u001b[38;5;124m'\u001b[39m\u001b[38;5;124mget\u001b[39m\u001b[38;5;124m'\u001b[39m):\n",
      "\u001b[0;31mKeyboardInterrupt\u001b[0m: "
     ]
    }
   ],
   "source": [
    "i = 0\n",
    "result = []\n",
    "\n",
    "for article in articleLinks:\n",
    "    print(f\"Now scraping article {i} from {len(articleLinks)} articles\")\n",
    "\n",
    "    url = f\"https://www.dw.com{article}\"\n",
    "    print(url)\n",
    "    html = requests.get(url).text\n",
    "    soup = BeautifulSoup(html, \"html.parser\")\n",
    "\n",
    "    data = {}\n",
    "\n",
    "    # sadly the authoer is not so easy to extract so in the following tree propular examples of author formating is used to get the author\n",
    "    if soup.find_all(\"div\", class_=\"author-details\"):\n",
    "        data[\"author\"] = soup.find_all(\"div\", class_=\"author-details\")\n",
    "    elif soup.find_all(\"span\", class_=\"author\"):\n",
    "        data[\"author\"] = soup.find_all(\"span\", class_=\"author\")\n",
    "    else:\n",
    "        data[\"author\"] = soup.find_all(\"div\", class_=\"author\")\n",
    "    \n",
    "    data[\"date\"] = soup.time\n",
    "    data[\"title\"] = soup.title \n",
    "    data[\"summary\"] = soup.find_all(class_=\"teaser-text\")\n",
    "    data[\"main_text\"] = soup.find_all(\"p\")\n",
    "    data[\"related_topics\"] = soup.aside\n",
    "\n",
    "    result.append(data)\n",
    "    i += 1\n",
    "    \n",
    "\n"
   ]
  },
  {
   "cell_type": "code",
   "execution_count": 82,
   "metadata": {},
   "outputs": [
    {
     "data": {
      "text/html": [
       "<div>\n",
       "<style scoped>\n",
       "    .dataframe tbody tr th:only-of-type {\n",
       "        vertical-align: middle;\n",
       "    }\n",
       "\n",
       "    .dataframe tbody tr th {\n",
       "        vertical-align: top;\n",
       "    }\n",
       "\n",
       "    .dataframe thead th {\n",
       "        text-align: right;\n",
       "    }\n",
       "</style>\n",
       "<table border=\"1\" class=\"dataframe\">\n",
       "  <thead>\n",
       "    <tr style=\"text-align: right;\">\n",
       "      <th></th>\n",
       "      <th>author</th>\n",
       "      <th>date</th>\n",
       "      <th>title</th>\n",
       "      <th>summary</th>\n",
       "      <th>main_text</th>\n",
       "      <th>related_topics</th>\n",
       "    </tr>\n",
       "  </thead>\n",
       "  <tbody>\n",
       "    <tr>\n",
       "      <th>0</th>\n",
       "      <td>[[[&lt;figure class=\"sc-dkjKgF lcVEbV sc-knwvCr f...</td>\n",
       "      <td>[04/02/2024]</td>\n",
       "      <td>[Is Senegal sending a message to young African...</td>\n",
       "      <td>[[Senegal swore in Bassirou Diomaye Faye on Tu...</td>\n",
       "      <td>[[To play this audio please enable JavaScript,...</td>\n",
       "      <td>[[Boko Haram], [Nigeria], [Uganda], [Cameroon]...</td>\n",
       "    </tr>\n",
       "    <tr>\n",
       "      <th>1</th>\n",
       "      <td>[[Ab Rauoof Ganie]]</td>\n",
       "      <td>[04/02/2024]</td>\n",
       "      <td>[India implements contentious citizenship law ...</td>\n",
       "      <td>[[In an abrupt move just weeks ahead of nation...</td>\n",
       "      <td>[[To view this video please enable JavaScript,...</td>\n",
       "      <td>[[BRICS], [Refugees], [Hindu nationalism], [Ma...</td>\n",
       "    </tr>\n",
       "    <tr>\n",
       "      <th>2</th>\n",
       "      <td>[[[&lt;span class=\"sc-ivDvhZ iBEcrE sc-bYUneI clA...</td>\n",
       "      <td>[04/02/2024]</td>\n",
       "      <td>[How unsealing your paved garden can help redu...</td>\n",
       "      <td>[[Extreme heat is magnified in cities, largely...</td>\n",
       "      <td>[[Extreme heat is magnified in cities, largely...</td>\n",
       "      <td>[[Extreme weather], [Heat and drought]]</td>\n",
       "    </tr>\n",
       "    <tr>\n",
       "      <th>3</th>\n",
       "      <td>[]</td>\n",
       "      <td>[04/02/2024]</td>\n",
       "      <td>[Finland: One dead in primary school shooting ...</td>\n",
       "      <td>[[The police said the victims of the shooting ...</td>\n",
       "      <td>[[The police said the victims of the shooting ...</td>\n",
       "      <td>[[Finland]]</td>\n",
       "    </tr>\n",
       "  </tbody>\n",
       "</table>\n",
       "</div>"
      ],
      "text/plain": [
       "                                              author          date  \\\n",
       "0  [[[<figure class=\"sc-dkjKgF lcVEbV sc-knwvCr f...  [04/02/2024]   \n",
       "1                                [[Ab Rauoof Ganie]]  [04/02/2024]   \n",
       "2  [[[<span class=\"sc-ivDvhZ iBEcrE sc-bYUneI clA...  [04/02/2024]   \n",
       "3                                                 []  [04/02/2024]   \n",
       "\n",
       "                                               title  \\\n",
       "0  [Is Senegal sending a message to young African...   \n",
       "1  [India implements contentious citizenship law ...   \n",
       "2  [How unsealing your paved garden can help redu...   \n",
       "3  [Finland: One dead in primary school shooting ...   \n",
       "\n",
       "                                             summary  \\\n",
       "0  [[Senegal swore in Bassirou Diomaye Faye on Tu...   \n",
       "1  [[In an abrupt move just weeks ahead of nation...   \n",
       "2  [[Extreme heat is magnified in cities, largely...   \n",
       "3  [[The police said the victims of the shooting ...   \n",
       "\n",
       "                                           main_text  \\\n",
       "0  [[To play this audio please enable JavaScript,...   \n",
       "1  [[To view this video please enable JavaScript,...   \n",
       "2  [[Extreme heat is magnified in cities, largely...   \n",
       "3  [[The police said the victims of the shooting ...   \n",
       "\n",
       "                                      related_topics  \n",
       "0  [[Boko Haram], [Nigeria], [Uganda], [Cameroon]...  \n",
       "1  [[BRICS], [Refugees], [Hindu nationalism], [Ma...  \n",
       "2            [[Extreme weather], [Heat and drought]]  \n",
       "3                                        [[Finland]]  "
      ]
     },
     "execution_count": 82,
     "metadata": {},
     "output_type": "execute_result"
    }
   ],
   "source": [
    "articlesAsDataFrame = pd.DataFrame(result)\n",
    "articlesAsDataFrame"
   ]
  },
  {
   "cell_type": "code",
   "execution_count": 83,
   "metadata": {},
   "outputs": [
    {
     "data": {
      "text/plain": [
       "[{'author': [<div class=\"sc-bouBDN cuZoTV col col-12 col-xl-6 one-author author\"><a class=\"sc-ivDvhZ iBEcrE sc-dkkzZO ihAvmP author-image\" href=\"/en/mimi-mefo-takambou/person-49492598\" tabindex=\"-1\" title=\"Mimi Mefo Takambou\"><figure class=\"sc-dkjKgF lcVEbV sc-knwvCr faNNLM lazy-load-container\"><img alt=\"Mimi Mefo Takambou\" aria-hidden=\"true\" class=\"lq-img\" src=\"\"/><img alt=\"Mimi Mefo Takambou\" class=\"hq-img\" src=\"\" title=\"Mimi Mefo Takambou\"/></figure></a><div class=\"author-name\"><a class=\"sc-ivDvhZ iBEcrE sc-bZCZoC jpmmcy sc-jeWJQQ hErddM sc-JPTJM cuFVzT author author-link\" href=\"/en/mimi-mefo-takambou/person-49492598\">Mimi Mefo Takambou</a><span class=\"sc-ivDvhZ iBEcrE sc-ilpitK eqflEz sc-jIJgYh fNjber sc-jdkVqZ hXmhkR sc-gIvWvA hyNzsk\"> Award-winning Cameroonian-born journalist.</span><a class=\"sc-ivDvhZ iBEcrE sc-bZCZoC jpmmcy sc-jeWJQQ hErddM sc-kATywh fekqic\" href=\"https://twitter.com/https://x.com/mimimefo\" rel=\"noopener noreferrer nofollow\" target=\"_blank\" title=\"External link — twitter — https://x.com/mimimefo\"><svg class=\"sc-eAmRia jHTksO twitter-icon\" viewbox=\"0 0 20 20\" xmlns=\"http://www.w3.org/2000/svg\" xmlns:xlink=\"http://www.w3.org/1999/xlink\"><g id=\"sm-twitter_padded-a\" stroke=\"none\" stroke-width=\"1\"><g id=\"Group\" transform=\"translate(1.000000, 1.000000)\"><path d=\"M6.00606088,0 L6.25248563,0.369823917 L17.1123603,16.6678677 L18,18 L11.9783365,18 L11.7319488,17.62975 L0.88620143,1.33170626 L0,0 L6.00606088,0 Z M5.13384269,1.70195626 L3.13622784,1.70195626 L12.8499575,16.2976495 L14.8599799,16.2976495 L5.13384269,1.70195626 Z M7.513,9.038 L8.803,10.97 L2.909,18.0001438 L0,18.0001438 L7.513,9.038 Z M18,0 L10.186,9.321 L8.908,7.375 L15.091,0 L18,0 Z\" id=\"Combined-Shape\"></path></g></g></svg>https://x.com/mimimefo</a></div></div>],\n",
       "  'date': <time aria-hidden=\"true\">04/02/2024</time>,\n",
       "  'title': <title data-rh=\"true\">Is Senegal sending a message to young Africans? – DW – 04/02/2024</title>,\n",
       "  'summary': [<p class=\"sc-ivDvhZ iBEcrE sc-bYUneI clArVt sc-kMbQoj bDRlQg sc-cCIIiH kgqfmn sc-BbNMx bBsUeI teaser-text\">Senegal swore in Bassirou Diomaye Faye on Tuesday. He becomes the youngest African president. Nigeria's Bola Tinubu is 72 and Ghana's Nana Akuffo-Addo is 80. But Africa's oldest leader is Cameroon's Paul Biya, aged 91. So, is Faye's victory a sign that Africa's youth are ready to lead? Listen to this interesting podcast.</p>],\n",
       "  'main_text': [<p class=\"vjs-no-js\">To play this audio please enable JavaScript, and consider upgrading to a web browser that <a href=\"https://videojs.com/html5-video-support/\" rel=\"noopener noreferrer\" target=\"_blank\">supports HTML5 video</a></p>,\n",
       "   <p class=\"sc-ivDvhZ iBEcrE sc-bYUneI clArVt sc-kMbQoj bDRlQg sc-cCIIiH kgqfmn sc-BbNMx bBsUeI teaser-text\">Senegal swore in Bassirou Diomaye Faye on Tuesday. He becomes the youngest African president. Nigeria's Bola Tinubu is 72 and Ghana's Nana Akuffo-Addo is 80. But Africa's oldest leader is Cameroon's Paul Biya, aged 91. So, is Faye's victory a sign that Africa's youth are ready to lead? Listen to this interesting podcast.</p>,\n",
       "   <p>Host: Mimi Mefo Takambou</p>,\n",
       "   <p>Debate: Moki Edwin Kindzeka in Cameroon</p>,\n",
       "   <p>Clip: Alex Gitta in Uganda</p>,\n",
       "   <p>Producer: Jane Nyingi</p>,\n",
       "   <p><span dir=\"ltr\">Listen and subscribe to The 77 Percent via AfricaLink on <a href=\"https://podcasts.apple.com/us/podcast/africalink-deutsche-welle/id514247579\">Apple Podcasts</a>, <a href=\"https://open.spotify.com/show/366s3XTbfqO0s4ycp8E4X5?si=c51eed9e3d1a42f4\">Spotify</a> or <a href=\"https://pod.link/africalink\">wherever else you get your podcasts</a>. </span></p>,\n",
       "   <p class=\"sc-ivDvhZ iBEcrE sc-bYUneI clArVt sc-kMbQoj bDRlQg sc-cCIIiH kgqfmn sc-BbNMx bBsUeI sc-bjKBMW lgkJSX\">A weekly podcast for the 77% of Africans who are under 35 years of age. We're a generation of confident, dynamic young people who are shaping Africa's future. You can listen below — or on your favorite podcast platform.</p>],\n",
       "  'related_topics': <aside class=\"sc-dktgqL jiTpiJ start\"><a class=\"sc-ivDvhZ iBEcrE sc-ivDvhZ iBEcrE sc-iJfdHH djgAGb sc-ezGUZh kTEIUz sc-iAfmwU gMPYoa sc-cUfYYG kOVITf sc-khksUn cjmyLp sc-byiLte bfEvOw\" href=\"/en/boko-haram/t-18172785\" role=\"button\" tabindex=\"0\">Boko Haram</a><a class=\"sc-ivDvhZ iBEcrE sc-ivDvhZ iBEcrE sc-iJfdHH djgAGb sc-ezGUZh kTEIUz sc-iAfmwU gMPYoa sc-cUfYYG kOVITf sc-khksUn cjmyLp sc-byiLte bfEvOw\" href=\"/en/nigeria/t-18943620\" role=\"button\" tabindex=\"0\">Nigeria</a><a class=\"sc-ivDvhZ iBEcrE sc-ivDvhZ iBEcrE sc-iJfdHH djgAGb sc-ezGUZh kTEIUz sc-iAfmwU gMPYoa sc-cUfYYG kOVITf sc-khksUn cjmyLp sc-byiLte bfEvOw\" href=\"/en/uganda/t-60886017\" role=\"button\" tabindex=\"0\">Uganda</a><a class=\"sc-ivDvhZ iBEcrE sc-ivDvhZ iBEcrE sc-iJfdHH djgAGb sc-ezGUZh kTEIUz sc-iAfmwU gMPYoa sc-cUfYYG kOVITf sc-khksUn cjmyLp sc-byiLte bfEvOw\" href=\"/en/cameroon/t-67210591\" role=\"button\" tabindex=\"0\">Cameroon</a><a class=\"sc-ivDvhZ iBEcrE sc-ivDvhZ iBEcrE sc-iJfdHH djgAGb sc-ezGUZh kTEIUz sc-iAfmwU gMPYoa sc-cUfYYG kOVITf sc-khksUn cjmyLp sc-byiLte bfEvOw\" href=\"/en/senegal/t-64329226\" role=\"button\" tabindex=\"0\">Senegal</a></aside>},\n",
       " {'author': [<span class=\"sc-ivDvhZ iBEcrE sc-bYUneI clArVt sc-kMbQoj bDRlQg sc-cCIIiH kgqfmn sc-JPTJM cuFVzT author no-link\">Ab Rauoof Ganie</span>],\n",
       "  'date': <time aria-hidden=\"true\">04/02/2024</time>,\n",
       "  'title': <title data-rh=\"true\">India implements contentious citizenship law – DW – 04/02/2024</title>,\n",
       "  'summary': [<p class=\"sc-ivDvhZ iBEcrE sc-bYUneI clArVt sc-kMbQoj bDRlQg sc-cCIIiH kgqfmn sc-BbNMx bBsUeI teaser-text\">In an abrupt move just weeks ahead of national elections, the government of Prime Minister Narendra Modi has implemented the Citizenship Amendment Act, which had lain dormant since it sparked deadly protests in 2019.</p>],\n",
       "  'main_text': [<p class=\"vjs-no-js\">To view this video please enable JavaScript, and consider upgrading to a web browser that <a href=\"https://videojs.com/html5-video-support/\" rel=\"noopener noreferrer\" target=\"_blank\">supports HTML5 video</a></p>,\n",
       "   <p class=\"sc-ivDvhZ iBEcrE sc-bYUneI clArVt sc-kMbQoj bDRlQg sc-cCIIiH kgqfmn sc-BbNMx bBsUeI teaser-text\">In an abrupt move just weeks ahead of national elections, the government of Prime Minister Narendra Modi has implemented the Citizenship Amendment Act, which had lain dormant since it sparked deadly protests in 2019.</p>],\n",
       "  'related_topics': <aside class=\"sc-dktgqL jiTpiJ start\"><a class=\"sc-ivDvhZ iBEcrE sc-ivDvhZ iBEcrE sc-iJfdHH djgAGb sc-ezGUZh kTEIUz sc-iAfmwU gMPYoa sc-cUfYYG kOVITf sc-khksUn cjmyLp sc-byiLte bfEvOw\" href=\"/en/brics/t-65124887\" role=\"button\" tabindex=\"0\">BRICS</a><a class=\"sc-ivDvhZ iBEcrE sc-ivDvhZ iBEcrE sc-iJfdHH djgAGb sc-ezGUZh kTEIUz sc-iAfmwU gMPYoa sc-cUfYYG kOVITf sc-khksUn cjmyLp sc-byiLte bfEvOw\" href=\"/en/refugees/t-49130262\" role=\"button\" tabindex=\"0\">Refugees</a><a class=\"sc-ivDvhZ iBEcrE sc-ivDvhZ iBEcrE sc-iJfdHH djgAGb sc-ezGUZh kTEIUz sc-iAfmwU gMPYoa sc-cUfYYG kOVITf sc-khksUn cjmyLp sc-byiLte bfEvOw\" href=\"/en/hindu-nationalism/t-66897981\" role=\"button\" tabindex=\"0\">Hindu nationalism</a><a class=\"sc-ivDvhZ iBEcrE sc-ivDvhZ iBEcrE sc-iJfdHH djgAGb sc-ezGUZh kTEIUz sc-iAfmwU gMPYoa sc-cUfYYG kOVITf sc-khksUn cjmyLp sc-byiLte bfEvOw\" href=\"/en/manipur/t-66698233\" role=\"button\" tabindex=\"0\">Manipur</a><a class=\"sc-ivDvhZ iBEcrE sc-ivDvhZ iBEcrE sc-iJfdHH djgAGb sc-ezGUZh kTEIUz sc-iAfmwU gMPYoa sc-cUfYYG kOVITf sc-khksUn cjmyLp sc-byiLte bfEvOw\" href=\"/en/narendra-modi/t-65800410\" role=\"button\" tabindex=\"0\">Narendra Modi</a><a class=\"sc-ivDvhZ iBEcrE sc-ivDvhZ iBEcrE sc-iJfdHH djgAGb sc-ezGUZh kTEIUz sc-iAfmwU gMPYoa sc-cUfYYG kOVITf sc-khksUn cjmyLp sc-byiLte bfEvOw\" href=\"/en/india/t-18996071\" role=\"button\" tabindex=\"0\">India</a></aside>},\n",
       " {'author': [<div class=\"sc-eJmhDG idUFGW sc-hlaTbY hAvlGg author-details\"><span><span class=\"sc-ivDvhZ iBEcrE sc-bYUneI clArVt sc-kMbQoj bDRlQg sc-cCIIiH kgqfmn sc-JPTJM cuFVzT author no-link\">Johan Brockschmidt</span></span></div>],\n",
       "  'date': <time aria-hidden=\"true\">04/02/2024</time>,\n",
       "  'title': <title data-rh=\"true\">How unsealing your paved garden can help reduce city heat   – DW – 04/02/2024</title>,\n",
       "  'summary': [<p class=\"sc-ivDvhZ iBEcrE sc-bYUneI clArVt sc-kMbQoj bDRlQg sc-cCIIiH kgqfmn sc-BbNMx bBsUeI teaser-text\">Extreme heat is magnified in cities, largely because of the way they're built. To help reduce stifling temperatures, some cities are creating more green spaces. But individuals can help too by unsealing their gardens.</p>],\n",
       "  'main_text': [<p class=\"sc-ivDvhZ iBEcrE sc-bYUneI clArVt sc-kMbQoj bDRlQg sc-cCIIiH kgqfmn sc-BbNMx bBsUeI teaser-text\">Extreme heat is magnified in cities, largely because of the way they're built. To help reduce stifling temperatures, some cities are creating more green spaces. But individuals can help too by unsealing their gardens.</p>,\n",
       "   <p>It's a summer night. After a sweltering day, temperatures have barely dropped. <a class=\"internal-link\" href=\"/en/heat-and-drought/t-19024671\">Heat</a> radiates from the pavement. Sleeping is difficult because it's too warm. But just 15 kilometers away in the leafy countryside, everyone is sleeping soundly.</p>,\n",
       "   <p>Urban areas can be up to 7 degrees Fahrenheit (3.9 Celsius) warmer than nearby countryside, according to the US Environmental Protection Agency. That's because of the <a class=\"internal-link\" href=\"/en/solutions-climate-change-global-warming-permafrost-locusts-sea-level-extreme-weather-heat/a-57071503\">\"urban heat island effect.\"</a></p>,\n",
       "   <p>The phenomenon is down to the ways cities are built. Glass, steel and concrete buildings and paved-over ground surfaces trap heat and radiate it back into the air. The result is tropical nights.</p>,\n",
       "   <p>Heat can be dangerous. One study in scientific journal Nature found more than 60,000 people died in Europe from heat-related illnesses in summer 2022. The IPCC, the UN's climate science institution, said deadly <a class=\"internal-link\" href=\"/en/report-extreme-weather-could-kill-over-150000-europeans-per-year-by-2100/a-39974926\">heat could affect more than half of the global population by 2100</a>. Cities, which are home to 56% of the world's population and rising, will be exposed to much greater heat compared to rural areas.</p>,\n",
       "   <p>Some cities like <a class=\"internal-link\" href=\"/en/what-are-sponge-cities-and-how-do-they-work/a-68407366\">Copenhagen in Denmark are tackling heat island effects</a> by rolling back impermeable surfaces and creating green spaces. But individuals are also trying to do their bit by greening their sealed over gardens and driveways. </p>,\n",
       "   <p>\"You can use a garden hoe or a shovel to get started,\" Fatma Özkan told DW. She works at a consumer advice agency in the western German state of North Rhine-Westphalia and helps to guide people through the unsealing process.</p>,\n",
       "   <p>Özkan unsealed her driveway a few years ago because she wanted a more environmentally friendly property. Over the course of a few days, she removed the pavement, replacing it mainly with grass.</p>,\n",
       "   <p>\"If you are dealing with a bound surface like concrete or asphalt, you usually need a better tool such as a drill,\" explained Özkan, adding that it's best to consult professionals if you want to unseal such a surface.</p>,\n",
       "   <p>Unbound surfaces like sand, wood chippings or paving stones without concrete or cement mortars, can be ripped out more easily.</p>,\n",
       "   <p>Rainwater flows on impermeable surfaces like asphalt and can't seep into the soil. Excess water drains into the sewage system but when heavy rain hits, sewers can become overwhelmed and cause severe <a class=\"internal-link\" href=\"/en/floods-in-germany/t-58300604\">flooding</a>. In some cases, people <a class=\"internal-link\" href=\"/en/extreme-weather/t-19020379\">can lose their homes, belongings or their lives.</a></p>,\n",
       "   <p>Unsealing surfaces allows soil to store water that can then be used by plants in drier periods. Replacing concrete and sealed surfaces with grass and vegetation also creates \"natural air-conditioning,\" said landscape architect Wolfgang Heidenreich. That's because some of the stored water evaporates when it gets hot, cooling the surrounding area.</p>,\n",
       "   <p>\"It is like stepping out of the shower. Once the water evaporates, it gets cold on your skin,\" said Heidenreich, who works for Green City, a German environmental organization offering advice on creating eco-friendly urban environments.</p>,\n",
       "   <p>It's crucial to pick a surface that lets water seep through in the space you've unsealed. Stone gardens are trendy but \"they don't make any sense. They tend to retain heat,\" said Heidenreich, who is based in southern Germany. Unlike soil they cannot store water.</p>,\n",
       "   <p>Heidenreich advocates for the use of drought-resistant grass and herbs which are suitable for cold winters and hot summers.</p>,\n",
       "   <p>\"You should check which seeds grow well in your region, so they are fit to survive in the regional climate,\" Heidenreich added. This also helps vital pollinators like <a class=\"internal-link\" href=\"/en/bees-and-humans-need-each-other/a-17391639\">wild bees</a> flourish and promotes <a class=\"internal-link\" href=\"/en/biodiversity/t-50781411\">biodiversity</a>.</p>,\n",
       "   <p>For those looking to unseal a driveway or garden without losing space to walk or park their car, Fatma Özkan suggests opting for \"wood chips, wooden grates, or grass pavers with open stones in the middle.\"</p>,\n",
       "   <p>In her own driveway, Özkan chose a few stones that provide a good amount of space in between for grass to grow. This way, water can seep into the ground, but she can still drive up to her house.</p>,\n",
       "   <p>Flat roofs, especially gravel-covered ones on garages, for instance, can be unsealed as well.</p>,\n",
       "   <p>\"You just remove the gravel and open up the possibility to plant herbs on your roof,\" Heidenreich said.</p>,\n",
       "   <p>To help the herbs grow you can use a \"roof garden substrate,\" which is\" a special soil mix to support plant growth.\"</p>,\n",
       "   <p>People don't need to wait for governments to start big unsealing projects \"everyone can start with their own property,\" Heidenreich said.</p>,\n",
       "   <p><em>Edited by: Jennifer Collins and Sarah Steffen</em></p>,\n",
       "   <p><em>Sources:</em> </p>,\n",
       "   <p><em><span xml:lang=\"EN-US\">Federal Environment Agency (UBA), \"</span>Better usage of unsealing methods for the restoration of soil functions and climate adaptation,\" 2021 (in German):  <br/>\n",
       "   <a href=\"https://www.umweltbundesamt.de/publikationen/bessere-nutzung-von-entsiegelungspotenzialen-zur\"><span xml:lang=\"EN-US\"><span data-ccp-charstyle=\"Hyperlink\">https://www.umweltbundesamt.de/publikationen/bessere-nutzung-von-entsiegelungspotenzialen-zur</span></span></a><span xml:lang=\"EN-US\"></span> </em></p>,\n",
       "   <p><em><span xml:lang=\"EN-US\">Consumer Advice Center North Rhine-Westphalia \"From Sealing to Unsealing</span>,\" May 2023 (in German): <a href=\"https://www.abwasser-beratung.nrw/wissen/verbraucherzentrale/von-der-versiegelung-zur-entsiegelung-50358\"><span xml:lang=\"EN-US\"><span data-ccp-charstyle=\"Hyperlink\">https://www.abwasser-beratung.nrw/wissen/verbraucherzentrale/von-der-versiegelung-zur-entsiegelung-50358</span></span></a><span xml:lang=\"EN-US\"></span> </em><span xml:lang=\"EN-US\"></span></p>],\n",
       "  'related_topics': <aside class=\"sc-dktgqL jiTpiJ start\"><a class=\"sc-ivDvhZ iBEcrE sc-ivDvhZ iBEcrE sc-iJfdHH djgAGb sc-ezGUZh kTEIUz sc-iAfmwU gMPYoa sc-cUfYYG kOVITf sc-khksUn cjmyLp sc-byiLte bfEvOw\" href=\"/en/extreme-weather/t-19020379\" role=\"button\" tabindex=\"0\">Extreme weather</a><a class=\"sc-ivDvhZ iBEcrE sc-ivDvhZ iBEcrE sc-iJfdHH djgAGb sc-ezGUZh kTEIUz sc-iAfmwU gMPYoa sc-cUfYYG kOVITf sc-khksUn cjmyLp sc-byiLte bfEvOw\" href=\"/en/heat-and-drought/t-19024671\" role=\"button\" tabindex=\"0\">Heat and drought</a></aside>},\n",
       " {'author': [],\n",
       "  'date': <time aria-hidden=\"true\">04/02/2024</time>,\n",
       "  'title': <title data-rh=\"true\">Finland: One dead in primary school shooting – DW – 04/02/2024</title>,\n",
       "  'summary': [<p class=\"sc-ivDvhZ iBEcrE sc-bYUneI clArVt sc-kMbQoj bDRlQg sc-cCIIiH kgqfmn sc-BbNMx bBsUeI teaser-text\">The police said the victims of the shooting incident in the city of Vantaa were children, one of whom was later confirmed to have died. The suspect, also a minor, was later arrested.</p>],\n",
       "  'main_text': [<p class=\"sc-ivDvhZ iBEcrE sc-bYUneI clArVt sc-kMbQoj bDRlQg sc-cCIIiH kgqfmn sc-BbNMx bBsUeI teaser-text\">The police said the victims of the shooting incident in the city of Vantaa were children, one of whom was later confirmed to have died. The suspect, also a minor, was later arrested.</p>,\n",
       "   <p>Three 12-year-olds were injured in a school shooting incident in <a class=\"internal-link\" href=\"/en/finland/t-65197962\">Finland</a> early on Tuesday, Finnish police said, adding that the suspect, also a minor, was later arrested.</p>,\n",
       "   <p>\"All those involved in the shooting incident are minors,\" the police said. They were all 12 years old, the police later specified.</p>,\n",
       "   <p>One of the three was later confirmed to have died. Police said the suspect had admitted to the shooting.</p>,\n",
       "   <p>The shooting occurred at the Viertola school in the city of Vantaa, north of the capital Helsinki. The school has some 800 students.</p>,\n",
       "   <p>\"The immediate danger is over,\" the Viertola school's principal Sari Laasila told the Reuters news agency.</p>,\n",
       "   <p>Finnish Prime Minister Petteri Orpo said the incident was \"deeply shocking,\" adding that he was closely following the situation and awaiting updates.</p>,\n",
       "   <p>\"The day started in a horrifying way. There has been a shooting incident at the Viertola school in Vantaa. I can only imagine the pain and worry that many families are experiencing at the moment. The suspected perpetrator has been caught,\"<br/>\n",
       "   Interior Minister Mari Rantanen said on X, formerly Twitter.</p>,\n",
       "   <p>Finland's population of around 5.5 million includes some 430,000 gun license holders, with more than 1.5 million licensed firearms owned by hunters and gun enthusiasts, ministry figures showed.</p>,\n",
       "   <p>The country tightened its gun legislation in 2010, following two back-to-back school shootings in 2007 and 2008 which, combined, left nearly 20 killed, including students.</p>,\n",
       "   <p>The amended legislation introduced an aptitude test for all firearms license applicants and increased the age limit for applicants from 18 to 20.</p>,\n",
       "   <p>rmt/rc (AFP, Reuters)</p>],\n",
       "  'related_topics': <aside class=\"sc-dktgqL jiTpiJ start\"><a class=\"sc-ivDvhZ iBEcrE sc-ivDvhZ iBEcrE sc-iJfdHH djgAGb sc-ezGUZh kTEIUz sc-iAfmwU gMPYoa sc-cUfYYG kOVITf sc-khksUn cjmyLp sc-byiLte bfEvOw\" href=\"/en/finland/t-65197962\" role=\"button\" tabindex=\"0\">Finland</a></aside>}]"
      ]
     },
     "execution_count": 83,
     "metadata": {},
     "output_type": "execute_result"
    }
   ],
   "source": [
    "result"
   ]
  },
  {
   "cell_type": "code",
   "execution_count": 54,
   "metadata": {},
   "outputs": [],
   "source": [
    "# transforming the data usefull for further research\n",
    "\n",
    "# transform date into datetime\n",
    "# articlesAsDataFrame[\"date\"] = pd.to_datetime(articlesAsDataFrame[\"date\"])\n",
    "\n",
    "# unwrap the outer array from the related_topics with the soup .getText(), check if none\n",
    "\n",
    "# change dtype of the related_topics into categories\n",
    "# articlesAsDataFrame[\"related_topics\"] = articlesAsDataFrame[\"related_topics\"].astype(\"category\")"
   ]
  },
  {
   "cell_type": "code",
   "execution_count": 59,
   "metadata": {},
   "outputs": [
    {
     "data": {
      "text/plain": [
       "0     [[Minorities], [Women's rights], [Taliban], [E...\n",
       "1     [[Black Sea], [BRICS], [Dmitry Medvedev], [Rus...\n",
       "2                                                  None\n",
       "3     [[Artificial intelligence], [Asia], [South Kor...\n",
       "4     [[EU migration policy], [BRICS], [Taiwan], [Uy...\n",
       "5        [[Palestinian territories], [Israel], [Hamas]]\n",
       "6                [[LGBTQ+ rights in Africa], [Namibia]]\n",
       "7                 [[Michael Schumacher], [Formula One]]\n",
       "8     [[BRICS], [Hindu nationalism], [Manipur], [Nar...\n",
       "9                                [[Olympics], [France]]\n",
       "10    [[Law and Justice], [Medical marijuana], [Rhin...\n",
       "11    [[Medical marijuana], [Rhine River], [Poverty ...\n",
       "12    [[Bayern Munich], [Borussia Dortmund], [Bundes...\n",
       "13    [[BRICS], [China-Taiwan crisis], [Taiwan], [Uy...\n",
       "14    [[Black Sea], [Turkey elections], [Turkey-Syri...\n",
       "15    [[BRICS], [Hindu nationalism], [Manipur], [Nar...\n",
       "16    [[Rhine River], [Poverty in Germany], [Robert ...\n",
       "Name: related_topics, dtype: object"
      ]
     },
     "execution_count": 59,
     "metadata": {},
     "output_type": "execute_result"
    }
   ],
   "source": [
    "articlesAsDataFrame[\"related_topics\"]"
   ]
  }
 ],
 "metadata": {
  "kernelspec": {
   "display_name": ".venv",
   "language": "python",
   "name": "python3"
  },
  "language_info": {
   "codemirror_mode": {
    "name": "ipython",
    "version": 3
   },
   "file_extension": ".py",
   "mimetype": "text/x-python",
   "name": "python",
   "nbconvert_exporter": "python",
   "pygments_lexer": "ipython3",
   "version": "3.12.2"
  }
 },
 "nbformat": 4,
 "nbformat_minor": 2
}
