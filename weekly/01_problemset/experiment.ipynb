{
 "cells": [
  {
   "cell_type": "markdown",
   "metadata": {},
   "source": [
    "# Data Science - Social Media Analytics SoSe 24 📊🔍\n",
    "\n",
    "## Problemset 1 📝\n",
    "\n",
    "This notebook represents my submission for the weekly tasks in Social Media Analytics for the summer semester of 2024.\n",
    "\n",
    "### Authors 👥\n",
    "- **Martin Brucker** (942815) 🧑‍💻\n",
    "- **Frederik Brinkmann** (943915) 🧑‍💻\n",
    "\n",
    "**Due**: Friday, 5th April 2024, 11:59 PM\n",
    "\n",
    "**Contact Information**: martin.brucker@student.fh-kiel.de 📧\n"
   ]
  },
  {
   "cell_type": "markdown",
   "metadata": {},
   "source": [
    "# Exersice 1 🤠\n",
    "\n",
    "Your task is to scrape articles from Deutsche Welle (DW) along with additional metadata about\n",
    "the articles.\n",
    "\n",
    "Use the Python Package BeautifulSoup to extract the following information from this\n",
    "website and store it in a Python dictionary:\n",
    "\n",
    "1. author\n",
    "1. date\n",
    "1. title\n",
    "1. summary (text printed in bold letters at the beginning)\n",
    "1. main text\n",
    "1. related topics (Minorities, Women’s rights, . . . )\n",
    "\n",
    "\n",
    "• Analyze the article: what additional information (metadata or other) related to this article\n",
    "is available? Make a list of such items. Then pick one of these items, extract it also from\n",
    "this website, and update your dictionary with this item.\n",
    "\n",
    "\n",
    "• Print the dictionary"
   ]
  },
  {
   "cell_type": "code",
   "execution_count": 2,
   "metadata": {},
   "outputs": [],
   "source": [
    "# importing the required lib's\n",
    "import requests\n",
    "import pandas as pd\n",
    "\n",
    "# !pip install beautifulsoup4\n",
    "from bs4 import BeautifulSoup"
   ]
  },
  {
   "cell_type": "code",
   "execution_count": 3,
   "metadata": {},
   "outputs": [],
   "source": [
    "## creating an instance of the BeautifulSoup class and setup the html parser\n",
    "\n",
    "# the URL is the given URL from wich the html code is downloaded\n",
    "url = \"https://www.dw.com/en/why-south-korean-women-arent-having-babies/a-68419317\"\n",
    "html = requests.get(url).text\n",
    "soup = BeautifulSoup(html, \"html.parser\")"
   ]
  },
  {
   "cell_type": "code",
   "execution_count": 29,
   "metadata": {},
   "outputs": [],
   "source": [
    "# Extracting information directly without creating separate variables\n",
    "resultDict = {\n",
    "    \"author\": soup.find(\"div\", class_=\"author-details\").get_text(),\n",
    "    \"date\": soup.time.get_text(),\n",
    "    \"title\": soup.title.get_text(),\n",
    "    \"summary\": soup.find(class_=\"teaser-text\").get_text(),\n",
    "    \"main_text\": [p.get_text() for p in soup.find_all(\"p\") \n",
    "                  if \"cookie__text\" not in p.get(\"class\", []) and \"vjs-no-js\" not in p.get(\"class\", [])],\n",
    "    \"related_topics\": [a.get_text() for a in soup.aside.find_all(\"a\")]\n",
    "}\n",
    "\n",
    "# Note: The 'main_text' filters out unnecessary <p> elements\n",
    "# with classes 'cookie__text' and 'vjs-no-js'"
   ]
  },
  {
   "cell_type": "markdown",
   "metadata": {},
   "source": [
    "#### Brainstorming additional information\n",
    "\n",
    "* Image information (amount/url/size/alt text)\n",
    "* Subsection Headlines (amount/text)\n",
    "* Links to other pages (amount/connections)\n"
   ]
  },
  {
   "cell_type": "code",
   "execution_count": 43,
   "metadata": {},
   "outputs": [],
   "source": [
    "## getting the sub-section headlines from the article\n",
    "\n",
    "# add the sub_sections to the earlyer created dictionary\n",
    "resultDict[\"sub_headlines\"] = [h2.get_text() for h2 in soup.find_all(\"h2\", class_=None)]\n"
   ]
  },
  {
   "cell_type": "code",
   "execution_count": 44,
   "metadata": {},
   "outputs": [
    {
     "data": {
      "text/plain": [
       "{'author': 'Julian Ryall',\n",
       " 'date': '03/01/2024',\n",
       " 'title': \"Why South Korean women aren't having babies – DW – 03/01/2024\",\n",
       " 'summary': 'New statistics show a record low number of children were born last year in South Korea, with women citing a desire for a career and to push back against a male-dominated society as key reasons.',\n",
       " 'main_text': ['New statistics show a record low number of children were born last year in South Korea, with women citing a desire for a career and to push back against a male-dominated society as key reasons.',\n",
       "  'When she was younger, Hyobin Lee yearned to be a mother. There came a point, however, when she had to make a difficult decision. Ultimately, she chose her career over a family and is now a successful academic in the South Korean city of Daejeon.',\n",
       "  \"Lee, now 44, is just one of millions of Korean women who are making a conscious decision to remain childless — resulting in the nation's fertility rate dropping to a new record low.\",\n",
       "  'The fertility rate — the average number of births per woman — shrank to 0.72 last year, according to preliminary government statistics released on Wednesday, down from 0.78 in the previous year and continuing the gradual annual decline since 2015.',\n",
       "  \"That figure is well below the 2.1 children required to maintain South Korea's population, with the mere 230,000 children born last year hinting that the nation's total population is on course to fall to around 26 million — half the current total — by 2100.\",\n",
       "  '\"When I was young, I dreamed of having a son who looked like me,\" Lee told DW. \"I wanted to play with him, to read together and show him much of the world. But I have come to realize that reality is not so simple.\"',\n",
       "  '\"I chose not to have children because of my career,\" she said. \"Having and raising a child would cause problem for my career and I fear I would resent the child for that reason. And as a consequence, both the child and I would be unhappy.\"',\n",
       "  \"A successful career in Korea's male-dominated society is one reason that many women give for opting to remain childless, but there are many more, Lee points out.\",\n",
       "  '\"Economic issues play a significant role and despite various childbirth policies designed to support women, these measures are not functioning as intended,\" she said.',\n",
       "  'Parental leave, for example, is by law available for both men and women, but it is overwhelmingly perceived and utilized by women.',\n",
       "  'Just 1.3% of Korean men use their parental leave entitlement, compared to an average of 43.4% across the 38 states of the Organization for Economic Cooperation and Development(OECD).',\n",
       "  'This means that Korean companies are reluctant to hire young women as they fear that they will invest in training a new member of staff only for her to leave after she become pregnant and then focus on being a full-time mother rather than returning to the workforce.',\n",
       "  '\"In Korea, there is still a prevalent culture that believes bearing children and all aspects of childcare are solely the responsibility of women,\" Lee added. \"The challenge of simultaneously managing childbirth and childcare is so daunting that many women choose not to have children at all. This can be said for me as well.\"',\n",
       "  'Jungmin Kwon, an associate professor at Portland State University in Oregon who specializes in East Asian popular culture, agrees that the pressures of South Korean society can be stifling.',\n",
       "  '\"According to many studies, significant factors include the cost and effort involved in childcare,\" she said.',\n",
       "  '\"Korea is famous for its extensive private education market and it is difficult to go against an atmosphere in which it is taken for granted that parents will spend a lot of money on various private education programs from a young age in order to compete with other children.\"',\n",
       "  '\"More importantly, in the current patriarchal culture, where women are expected to bear the majority of the mental and physical energy required to raise children, childbirth and childcare are challenging choices for women,\" Kwon said, pointing out that statistics show that women still do five times more housework and childcare duties than men.',\n",
       "  '\"In a situation where respect and consideration for women working across society have not yet taken root, managing both home and career smoothly is a challenging and stressful task for women.\"',\n",
       "  'And the consequence of that, she points out, is that as gender education levels become more equal and women have more economic resources and choices in their occupation than in the past, they are discovering many ways to live without relying on men.',\n",
       "  '\"Many women do not want to constrain their lives by choosing not only not to have children, but also not to get married,\" Kwon said.',\n",
       "  'Aggressive efforts by recent South Korean governments to boost the birth rate — including additional benefits for families with multiple children and support for single-parent families — have clearly failed to turn the tide, Lee points out, and have had the unanticipated consequence of fueling resentment among men.',\n",
       "  '\"They feel aggrieved that they have to complete mandatory military service and they argue that there is no equivalent obligation for women, yet women benefit from numerous supportive policies,\" she said.',\n",
       "  \"It was this sector of the voting public that in part secured Yoon Suk Yeol's victory in the presidential election of May 2022 after he vowed during the campaign to abolish the Ministry of Gender Equality and Family.\",\n",
       "  \"Both Lee and Kwon are pessimistic that South Korea's population crisis can be overcome, with Lee saying that young women appear to have no interest in responding to the nation's needs.\",\n",
       "  '\"There is a pervasive belief that issues of birth rates and social pressure are not their concern,\" she said. \"The younger generation\\'s prevalent individualism means that social pressures are unlikely to aid in improving birth rates.\"',\n",
       "  'Kwon echoes that assessment.',\n",
       "  '\"Young women today have dissimilar perspectives about family, marriage, childbirth, community and the nation-state from previous generations.',\n",
       "  '\"They are less entrapped by the ‘obligations of being a woman\\' imposed by patriarchal states, societies and households,\" she said.',\n",
       "  '\"Currently it is not feasible for patriarchal structures to change overnight and, accordingly, it\\'s also pessimistic to think that women will have children to increase Korea\\'s birth rate.\"',\n",
       "  'Edited by: Keith Walker'],\n",
       " 'related_topics': ['Minorities', \"Women's rights\", 'South Korea'],\n",
       " 'sub_sections': ['A dream of a son',\n",
       "  'Women bear the brunt of children',\n",
       "  'Bleak birthrate outlook'],\n",
       " 'sub_headlines': ['A dream of a son',\n",
       "  'Women bear the brunt of children',\n",
       "  'Bleak birthrate outlook']}"
      ]
     },
     "execution_count": 44,
     "metadata": {},
     "output_type": "execute_result"
    }
   ],
   "source": [
    "# printing the final dict\n",
    "resultDict"
   ]
  },
  {
   "cell_type": "markdown",
   "metadata": {},
   "source": [
    "# Exersice 2 🤠"
   ]
  },
  {
   "cell_type": "code",
   "execution_count": 24,
   "metadata": {},
   "outputs": [],
   "source": [
    "import datetime\n",
    "import time"
   ]
  },
  {
   "cell_type": "markdown",
   "metadata": {},
   "source": [
    "in the following the task will be split into two code-blocks\n",
    "in the first block all URL's to articles since 01.03.2024 will be collected\n",
    "\n",
    "in the second code block the relevant data will be extracted from all the links"
   ]
  },
  {
   "cell_type": "code",
   "execution_count": 25,
   "metadata": {},
   "outputs": [
    {
     "name": "stdout",
     "output_type": "stream",
     "text": [
      "Now scraping page 10\n"
     ]
    },
    {
     "name": "stdout",
     "output_type": "stream",
     "text": [
      "Now scraping page 20\n",
      "Now scraping page 30\n",
      "Now scraping page 40\n",
      "Now scraping page 50\n",
      "Now scraping page 60\n",
      "Now scraping page 70\n",
      "Now scraping page 80\n",
      "Finished scraping 360 article URL's\n"
     ]
    }
   ],
   "source": [
    "articleLinks = []\n",
    "page = 10\n",
    "more_pages = True\n",
    "target_date = \"2024-04-01\"\n",
    "\n",
    "while more_pages == True:\n",
    "\n",
    "    print(f\"Now scraping page {page}\")\n",
    "\n",
    "    url = f\"https://www.dw.com/search/?languageCode=en&sort=DATE&resultsCounter={page}\"\n",
    "    html = requests.get(url).text\n",
    "    soup = BeautifulSoup(html, \"html.parser\")\n",
    "    \n",
    "    news = soup.select(\"div.searchResult\")\n",
    "    articleLinks.extend([article.a[\"href\"] for article in news])\n",
    "\n",
    "    if news:\n",
    "        latest_date = soup.find_all(name=\"span\", attrs={\"class\" : \"date\"})[-1].getText()\n",
    "\n",
    "        ## abbruchbedingung wenn das Datum des letzten Artikels vor dem 01.03.2024 liegt\n",
    "        if datetime.datetime.strptime(latest_date, \"%d.%m.%Y\") < datetime.datetime.strptime(target_date, \"%Y-%m-%d\"):\n",
    "            more_pages = False\n",
    "\n",
    "    if soup.select(\"a.addPage\"):\n",
    "        page += 10\n",
    "    else:\n",
    "        more_pages = False\n",
    "\n",
    "\n",
    "    time.sleep(1)   \n",
    "\n",
    "print(f\"Finished scraping {len(articleLinks)} article URL's\")"
   ]
  },
  {
   "cell_type": "code",
   "execution_count": 26,
   "metadata": {},
   "outputs": [],
   "source": [
    "# to cache the links as csv file\n",
    "pd.DataFrame(articleLinks, columns=[\"links\"]).to_csv(\"article_links.csv\", index=False)"
   ]
  },
  {
   "cell_type": "code",
   "execution_count": 27,
   "metadata": {},
   "outputs": [
    {
     "name": "stdout",
     "output_type": "stream",
     "text": [
      "Finished 0.0 %\n",
      "noDate\n",
      "no summary\n",
      "Finished 0.027777777777777776 %\n",
      "noDate\n",
      "no summary\n",
      "Finished 0.05555555555555555 %\n",
      "Finished 0.08333333333333333 %\n",
      "noDate\n",
      "no summary\n",
      "Finished 0.1111111111111111 %\n",
      "Finished 0.1388888888888889 %\n",
      "noDate\n",
      "no summary\n",
      "noDate\n",
      "no summary\n",
      "Finished 0.16666666666666666 %\n",
      "noDate\n",
      "no summary\n",
      "Finished 0.19444444444444445 %\n",
      "Finished 0.2222222222222222 %\n",
      "noDate\n",
      "no summary\n",
      "noDate\n",
      "no summary\n",
      "Finished 0.25 %\n",
      "no summary\n",
      "Finished 0.2777777777777778 %\n",
      "noDate\n",
      "no summary\n",
      "Finished 0.3055555555555556 %\n",
      "Finished 0.3333333333333333 %\n",
      "noDate\n",
      "no summary\n",
      "noDate\n",
      "no summary\n",
      "Finished 0.3611111111111111 %\n",
      "no summary\n",
      "Finished 0.3888888888888889 %\n",
      "Finished 0.4166666666666667 %\n",
      "noDate\n",
      "no summary\n",
      "Finished 0.4444444444444444 %\n",
      "Finished 0.4722222222222222 %\n",
      "noDate\n",
      "no summary\n",
      "noDate\n",
      "no summary\n",
      "Finished 0.5 %\n",
      "no summary\n",
      "Finished 0.5277777777777778 %\n",
      "Finished 0.5555555555555556 %\n",
      "Finished 0.5833333333333334 %\n",
      "noDate\n",
      "no summary\n",
      "Finished 0.6111111111111112 %\n",
      "Finished 0.6388888888888888 %\n",
      "noDate\n",
      "no summary\n",
      "noDate\n",
      "no summary\n",
      "Finished 0.6666666666666666 %\n",
      "no summary\n",
      "Finished 0.6944444444444444 %\n",
      "Finished 0.7222222222222222 %\n",
      "Finished 0.75 %\n",
      "Finished 0.7777777777777778 %\n",
      "noDate\n",
      "no summary\n",
      "Finished 0.8055555555555556 %\n",
      "Finished 0.8333333333333334 %\n",
      "noDate\n",
      "no summary\n",
      "noDate\n",
      "no summary\n",
      "Finished 0.8611111111111112 %\n",
      "no summary\n",
      "Finished 0.8888888888888888 %\n",
      "Finished 0.9166666666666666 %\n",
      "Finished 0.9444444444444444 %\n",
      "Finished 0.9722222222222222 %\n"
     ]
    }
   ],
   "source": [
    "i = 0\n",
    "result = []\n",
    "\n",
    "for article in articleLinks:\n",
    "    if(i % 10 == 0):\n",
    "        print(f\"Finished {i/len(articleLinks)} %\")\n",
    "\n",
    "    url = f\"https://www.dw.com{article}\"\n",
    "    html = requests.get(url).text\n",
    "    soup = BeautifulSoup(html, \"html.parser\")\n",
    "\n",
    "    data = {}\n",
    "\n",
    "    # sadly the authoer is not so easy to extract so in the following tree propular examples of author formating is used to get the author\n",
    "    if soup.find_all(\"div\", class_=\"author-details\"):\n",
    "        data[\"author\"] = soup.find_all(\"div\", class_=\"author-details\")\n",
    "    elif soup.find_all(\"span\", class_=\"author\"):\n",
    "        data[\"author\"] = soup.find_all(\"span\", class_=\"author\")\n",
    "    else:\n",
    "        data[\"author\"] = soup.find_all(\"div\", class_=\"author\")\n",
    "    \n",
    "    try: \n",
    "        data[\"date\"] = soup.time.getText()\n",
    "    except: \n",
    "        print(\"noDate\")\n",
    "\n",
    "    try:\n",
    "        data[\"title\"] = soup.title.getText()\n",
    "    except:\n",
    "        print(\"no title\")\n",
    "\n",
    "    try:\n",
    "        data[\"summary\"] = soup.find_all(class_=\"teaser-text\")[0].getText()\n",
    "    except:\n",
    "        print(\"no summary\")\n",
    "\n",
    "    try:\n",
    "        data[\"text\"] = [p.getText() for p in soup.find_all(\"p\", class_=lambda x: x not in [\"cookie__text\", \"vjs-no-js\"])]\n",
    "    except:\n",
    "        print(\"no text\")\n",
    "    \n",
    "    data[\"related_topics\"] = soup.aside\n",
    "\n",
    "    result.append(data)\n",
    "    i += 1"
   ]
  },
  {
   "cell_type": "code",
   "execution_count": 39,
   "metadata": {},
   "outputs": [
    {
     "data": {
      "text/html": [
       "<div>\n",
       "<style scoped>\n",
       "    .dataframe tbody tr th:only-of-type {\n",
       "        vertical-align: middle;\n",
       "    }\n",
       "\n",
       "    .dataframe tbody tr th {\n",
       "        vertical-align: top;\n",
       "    }\n",
       "\n",
       "    .dataframe thead th {\n",
       "        text-align: right;\n",
       "    }\n",
       "</style>\n",
       "<table border=\"1\" class=\"dataframe\">\n",
       "  <thead>\n",
       "    <tr style=\"text-align: right;\">\n",
       "      <th></th>\n",
       "      <th>author</th>\n",
       "      <th>date</th>\n",
       "      <th>title</th>\n",
       "      <th>summary</th>\n",
       "      <th>text</th>\n",
       "      <th>related_topics</th>\n",
       "    </tr>\n",
       "  </thead>\n",
       "  <tbody>\n",
       "    <tr>\n",
       "      <th>0</th>\n",
       "      <td>[[Flourish Ubanyi ]]</td>\n",
       "      <td>04/02/2024</td>\n",
       "      <td>Under pressure from the online beauty craze? –...</td>\n",
       "      <td>Does social media influence our perception of ...</td>\n",
       "      <td>[Does social media influence our perception of...</td>\n",
       "      <td>[[Lifestyle]]</td>\n",
       "    </tr>\n",
       "    <tr>\n",
       "      <th>1</th>\n",
       "      <td>[]</td>\n",
       "      <td>04/02/2024</td>\n",
       "      <td>Inflation in Germany drops again in March – DW...</td>\n",
       "      <td>Year-on-year inflation dropped to 2.2% last mo...</td>\n",
       "      <td>[Year-on-year inflation dropped to 2.2% last m...</td>\n",
       "      <td>None</td>\n",
       "    </tr>\n",
       "    <tr>\n",
       "      <th>2</th>\n",
       "      <td>[[[&lt;a class=\"sc-ivDvhZ iBEcrE sc-bZCZoC jpmmcy...</td>\n",
       "      <td>04/02/2024</td>\n",
       "      <td>What's behind high joblessness among India's y...</td>\n",
       "      <td>The outlook for millions of young people enter...</td>\n",
       "      <td>[The outlook for millions of young people ente...</td>\n",
       "      <td>[[BRICS], [Hindu nationalism], [Manipur], [Nar...</td>\n",
       "    </tr>\n",
       "    <tr>\n",
       "      <th>3</th>\n",
       "      <td>[]</td>\n",
       "      <td>04/02/2024</td>\n",
       "      <td>By train through Vietnam – DW – 04/02/2024</td>\n",
       "      <td>A journey of about 1,700 kilometers. In Vietna...</td>\n",
       "      <td>[A journey of about 1,700 kilometers. In Vietn...</td>\n",
       "      <td>None</td>\n",
       "    </tr>\n",
       "    <tr>\n",
       "      <th>4</th>\n",
       "      <td>[]</td>\n",
       "      <td>NaN</td>\n",
       "      <td>Checking facts and building trust in Burkina F...</td>\n",
       "      <td>NaN</td>\n",
       "      <td>[\\nDW Akademie and Fasocheck believe that acce...</td>\n",
       "      <td>None</td>\n",
       "    </tr>\n",
       "  </tbody>\n",
       "</table>\n",
       "</div>"
      ],
      "text/plain": [
       "                                              author        date  \\\n",
       "0                               [[Flourish Ubanyi ]]  04/02/2024   \n",
       "1                                                 []  04/02/2024   \n",
       "2  [[[<a class=\"sc-ivDvhZ iBEcrE sc-bZCZoC jpmmcy...  04/02/2024   \n",
       "3                                                 []  04/02/2024   \n",
       "4                                                 []         NaN   \n",
       "\n",
       "                                               title  \\\n",
       "0  Under pressure from the online beauty craze? –...   \n",
       "1  Inflation in Germany drops again in March – DW...   \n",
       "2  What's behind high joblessness among India's y...   \n",
       "3         By train through Vietnam – DW – 04/02/2024   \n",
       "4  Checking facts and building trust in Burkina F...   \n",
       "\n",
       "                                             summary  \\\n",
       "0  Does social media influence our perception of ...   \n",
       "1  Year-on-year inflation dropped to 2.2% last mo...   \n",
       "2  The outlook for millions of young people enter...   \n",
       "3  A journey of about 1,700 kilometers. In Vietna...   \n",
       "4                                                NaN   \n",
       "\n",
       "                                                text  \\\n",
       "0  [Does social media influence our perception of...   \n",
       "1  [Year-on-year inflation dropped to 2.2% last m...   \n",
       "2  [The outlook for millions of young people ente...   \n",
       "3  [A journey of about 1,700 kilometers. In Vietn...   \n",
       "4  [\\nDW Akademie and Fasocheck believe that acce...   \n",
       "\n",
       "                                      related_topics  \n",
       "0                                      [[Lifestyle]]  \n",
       "1                                               None  \n",
       "2  [[BRICS], [Hindu nationalism], [Manipur], [Nar...  \n",
       "3                                               None  \n",
       "4                                               None  "
      ]
     },
     "execution_count": 39,
     "metadata": {},
     "output_type": "execute_result"
    }
   ],
   "source": [
    "articlesAsDataFrame = pd.DataFrame(result)\n",
    "articlesAsDataFrame.head()"
   ]
  },
  {
   "cell_type": "code",
   "execution_count": 38,
   "metadata": {},
   "outputs": [
    {
     "data": {
      "text/plain": [
       "0                                          [[Lifestyle]]\n",
       "1                                                   None\n",
       "2      [[BRICS], [Hindu nationalism], [Manipur], [Nar...\n",
       "3                                                   None\n",
       "4                                                   None\n",
       "                             ...                        \n",
       "355    [[Black Sea], [BRICS], [Dmitry Medvedev], [Rus...\n",
       "356    [[Black Sea], [Turkey elections], [Turkey-Syri...\n",
       "357                     [[Israel], [Benjamin Netanyahu]]\n",
       "358                     [[Israel], [Benjamin Netanyahu]]\n",
       "359                                        [[The Hague]]\n",
       "Name: related_topics, Length: 360, dtype: object"
      ]
     },
     "execution_count": 38,
     "metadata": {},
     "output_type": "execute_result"
    }
   ],
   "source": [
    "# transform date into datetime\n",
    "articlesAsDataFrame[\"date\"] = pd.to_datetime(articlesAsDataFrame[\"date\"], format=\"%m/%d/%Y\")\n",
    "\n",
    "# transform related_topics into related_topics\n",
    "# maybe formating it in multible columns\n",
    "\n",
    "#check max related_topics length care of none\n",
    "articlesAsDataFrame[\"related_topics\"].apply(lambda x: len(x) if x else 0).max()\n",
    "\n",
    "articlesAsDataFrame[\"related_topics\"]"
   ]
  },
  {
   "cell_type": "code",
   "execution_count": null,
   "metadata": {},
   "outputs": [],
   "source": [
    "# transforming the data usefull for further research\n",
    "\n",
    "# transform date into datetime\n",
    "# articlesAsDataFrame[\"date\"] = pd.to_datetime(articlesAsDataFrame[\"date\"])\n",
    "\n",
    "# unwrap the outer array from the related_topics with the soup .getText(), check if none\n",
    "\n",
    "# change dtype of the related_topics into categories\n",
    "# articlesAsDataFrame[\"related_topics\"] = articlesAsDataFrame[\"related_topics\"].astype(\"category\")"
   ]
  },
  {
   "cell_type": "code",
   "execution_count": null,
   "metadata": {},
   "outputs": [
    {
     "data": {
      "text/plain": [
       "0     [[Minorities], [Women's rights], [Taliban], [E...\n",
       "1     [[Black Sea], [BRICS], [Dmitry Medvedev], [Rus...\n",
       "2                                                  None\n",
       "3     [[Artificial intelligence], [Asia], [South Kor...\n",
       "4     [[EU migration policy], [BRICS], [Taiwan], [Uy...\n",
       "5        [[Palestinian territories], [Israel], [Hamas]]\n",
       "6                [[LGBTQ+ rights in Africa], [Namibia]]\n",
       "7                 [[Michael Schumacher], [Formula One]]\n",
       "8     [[BRICS], [Hindu nationalism], [Manipur], [Nar...\n",
       "9                                [[Olympics], [France]]\n",
       "10    [[Law and Justice], [Medical marijuana], [Rhin...\n",
       "11    [[Medical marijuana], [Rhine River], [Poverty ...\n",
       "12    [[Bayern Munich], [Borussia Dortmund], [Bundes...\n",
       "13    [[BRICS], [China-Taiwan crisis], [Taiwan], [Uy...\n",
       "14    [[Black Sea], [Turkey elections], [Turkey-Syri...\n",
       "15    [[BRICS], [Hindu nationalism], [Manipur], [Nar...\n",
       "16    [[Rhine River], [Poverty in Germany], [Robert ...\n",
       "Name: related_topics, dtype: object"
      ]
     },
     "execution_count": 59,
     "metadata": {},
     "output_type": "execute_result"
    }
   ],
   "source": [
    "articlesAsDataFrame[\"related_topics\"]"
   ]
  }
 ],
 "metadata": {
  "kernelspec": {
   "display_name": ".venv",
   "language": "python",
   "name": "python3"
  },
  "language_info": {
   "codemirror_mode": {
    "name": "ipython",
    "version": 3
   },
   "file_extension": ".py",
   "mimetype": "text/x-python",
   "name": "python",
   "nbconvert_exporter": "python",
   "pygments_lexer": "ipython3",
   "version": "3.12.2"
  }
 },
 "nbformat": 4,
 "nbformat_minor": 2
}
