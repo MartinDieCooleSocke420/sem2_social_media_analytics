{
  "cells": [
    {
      "cell_type": "markdown",
      "metadata": {
        "id": "7keOmsU-svXI"
      },
      "source": [
        "# Data Science - Social Media Analytics SoSe 24 📊🔍\n",
        "\n",
        "## Problemset 4 📝\n",
        "\n",
        "This notebook represents my submission for the weekly tasks in Social Media Analytics for the summer semester of 2024.\n",
        "\n",
        "### Authors 👥\n",
        "- **Martin Brucker** (942815) 🧑‍💻\n",
        "- **Frederik Brinkmann** (943915) 🧑‍💻\n",
        "\n",
        "**Due**: Friday, 3 May 2024, 11:59 PM\n",
        "\n",
        "**Contact Information**: martin.brucker@student.fh-kiel.de 📧"
      ]
    },
    {
      "cell_type": "markdown",
      "metadata": {
        "id": "lKozrDD3wuRD"
      },
      "source": [
        "### Exercise 1\n",
        "Vectorize the texts using Bag of Words and choose a baseline machine learning algorithm with default hyperparameters. Vary ONLY your text preprocessing strategy (e.g. lowercasing, stopword removal, stemming, lemmatization, or some combination of these). Keep the rest of your setup fixed.\n",
        "\n",
        "Evaluate the performance of your models on a holdout set. Provide a table with the evaluation results. The table should also show the number of features used in each case.\n",
        "\n",
        "Briefly summarize your main findings."
      ]
    },
    {
      "cell_type": "markdown",
      "metadata": {
        "id": "l-SYHKzbhQYQ"
      },
      "source": [
        "#### Installation of necessary packages"
      ]
    },
    {
      "cell_type": "code",
      "execution_count": 10,
      "metadata": {
        "colab": {
          "base_uri": "https://localhost:8080/"
        },
        "id": "7jime-L5xpEC",
        "outputId": "50ada2a7-ef4f-4328-8658-f40b3625eece"
      },
      "outputs": [],
      "source": [
        "# !pip install nltk\n",
        "# !pip install scikit-learn\n",
        "# !pip install pandas\n",
        "# !pip install langdetect"
      ]
    },
    {
      "cell_type": "markdown",
      "metadata": {
        "id": "yljRGqDjhVRE"
      },
      "source": [
        "#### Library imports"
      ]
    },
    {
      "cell_type": "code",
      "execution_count": 11,
      "metadata": {
        "id": "dYyIDCclq29Q"
      },
      "outputs": [],
      "source": [
        "# Natural Language Toolkit (NLTK) for text preprocessing\n",
        "import nltk\n",
        "from nltk.corpus import stopwords\n",
        "from nltk.stem import PorterStemmer\n",
        "from nltk.stem import WordNetLemmatizer\n",
        "\n",
        "# Vectorizers for converting text data into numerical features\n",
        "from sklearn.feature_extraction.text import CountVectorizer, TfidfVectorizer\n",
        "\n",
        "# Scikit-learn methods and models for machine learning tasks\n",
        "from sklearn.model_selection import train_test_split, RandomizedSearchCV\n",
        "from sklearn.naive_bayes import MultinomialNB\n",
        "from sklearn.metrics import accuracy_score, f1_score\n",
        "\n",
        "# Data handling libraries\n",
        "import pandas as pd\n",
        "import numpy as np\n",
        "\n",
        "# Optional library for language detection of the texts\n",
        "from langdetect import detect"
      ]
    },
    {
      "cell_type": "markdown",
      "metadata": {
        "id": "3vwVXZMLhuKM"
      },
      "source": [
        "#### Load dataset"
      ]
    },
    {
      "cell_type": "code",
      "execution_count": 12,
      "metadata": {
        "colab": {
          "base_uri": "https://localhost:8080/",
          "height": 293
        },
        "id": "5xVVk9QDu8c4",
        "outputId": "5f485289-5279-476b-ae4f-611e090445ef"
      },
      "outputs": [
        {
          "data": {
            "text/html": [
              "<div>\n",
              "<style scoped>\n",
              "    .dataframe tbody tr th:only-of-type {\n",
              "        vertical-align: middle;\n",
              "    }\n",
              "\n",
              "    .dataframe tbody tr th {\n",
              "        vertical-align: top;\n",
              "    }\n",
              "\n",
              "    .dataframe thead th {\n",
              "        text-align: right;\n",
              "    }\n",
              "</style>\n",
              "<table border=\"1\" class=\"dataframe\">\n",
              "  <thead>\n",
              "    <tr style=\"text-align: right;\">\n",
              "      <th></th>\n",
              "      <th>name</th>\n",
              "      <th>restaurant_url</th>\n",
              "      <th>title</th>\n",
              "      <th>text</th>\n",
              "      <th>rating</th>\n",
              "    </tr>\n",
              "  </thead>\n",
              "  <tbody>\n",
              "    <tr>\n",
              "      <th>0</th>\n",
              "      <td>Manufactur</td>\n",
              "      <td>https://www.tripadvisor.com/Restaurant_Review-...</td>\n",
              "      <td>Best in Kiel</td>\n",
              "      <td>The absolutely best restaurant in the town of ...</td>\n",
              "      <td>5.0</td>\n",
              "    </tr>\n",
              "    <tr>\n",
              "      <th>1</th>\n",
              "      <td>Manufactur</td>\n",
              "      <td>https://www.tripadvisor.com/Restaurant_Review-...</td>\n",
              "      <td>Simply, tasty and very good</td>\n",
              "      <td>Tasty and high quality food! A “healthier”way ...</td>\n",
              "      <td>5.0</td>\n",
              "    </tr>\n",
              "    <tr>\n",
              "      <th>2</th>\n",
              "      <td>Manufactur</td>\n",
              "      <td>https://www.tripadvisor.com/Restaurant_Review-...</td>\n",
              "      <td>Delicious fast food!</td>\n",
              "      <td>The food was more than we asked for and we whe...</td>\n",
              "      <td>5.0</td>\n",
              "    </tr>\n",
              "    <tr>\n",
              "      <th>3</th>\n",
              "      <td>Manufactur</td>\n",
              "      <td>https://www.tripadvisor.com/Restaurant_Review-...</td>\n",
              "      <td>Manufactur</td>\n",
              "      <td>They have some amazing service amzing food and...</td>\n",
              "      <td>5.0</td>\n",
              "    </tr>\n",
              "    <tr>\n",
              "      <th>4</th>\n",
              "      <td>Manufactur</td>\n",
              "      <td>https://www.tripadvisor.com/Restaurant_Review-...</td>\n",
              "      <td>clear but appealing menu: you will find what y...</td>\n",
              "      <td>Manufaktur is really a nice small self service...</td>\n",
              "      <td>5.0</td>\n",
              "    </tr>\n",
              "  </tbody>\n",
              "</table>\n",
              "</div>"
            ],
            "text/plain": [
              "         name                                     restaurant_url  \\\n",
              "0  Manufactur  https://www.tripadvisor.com/Restaurant_Review-...   \n",
              "1  Manufactur  https://www.tripadvisor.com/Restaurant_Review-...   \n",
              "2  Manufactur  https://www.tripadvisor.com/Restaurant_Review-...   \n",
              "3  Manufactur  https://www.tripadvisor.com/Restaurant_Review-...   \n",
              "4  Manufactur  https://www.tripadvisor.com/Restaurant_Review-...   \n",
              "\n",
              "                                               title  \\\n",
              "0                                       Best in Kiel   \n",
              "1                        Simply, tasty and very good   \n",
              "2                               Delicious fast food!   \n",
              "3                                         Manufactur   \n",
              "4  clear but appealing menu: you will find what y...   \n",
              "\n",
              "                                                text  rating  \n",
              "0  The absolutely best restaurant in the town of ...     5.0  \n",
              "1  Tasty and high quality food! A “healthier”way ...     5.0  \n",
              "2  The food was more than we asked for and we whe...     5.0  \n",
              "3  They have some amazing service amzing food and...     5.0  \n",
              "4  Manufaktur is really a nice small self service...     5.0  "
            ]
          },
          "execution_count": 12,
          "metadata": {},
          "output_type": "execute_result"
        }
      ],
      "source": [
        "# Load the restaurant reviews dataset from a CSV file\n",
        "restaurant_reviews_df = pd.read_csv(\"data/restaurant-reviews.csv\")\n",
        "restaurant_reviews_df.head()"
      ]
    },
    {
      "cell_type": "markdown",
      "metadata": {
        "id": "04_Wry7Ohzdj"
      },
      "source": [
        "#### Class imbalance and language analysis"
      ]
    },
    {
      "cell_type": "markdown",
      "metadata": {
        "id": "oolzTic84xH4"
      },
      "source": [
        "##### Class Imbalance"
      ]
    },
    {
      "cell_type": "code",
      "execution_count": 13,
      "metadata": {
        "colab": {
          "base_uri": "https://localhost:8080/"
        },
        "id": "uLyosN2NyAux",
        "outputId": "def3b31e-4958-460b-96c6-a9fda84caaaf"
      },
      "outputs": [
        {
          "data": {
            "text/plain": [
              "rating\n",
              "5.0    469\n",
              "4.0    333\n",
              "3.0    104\n",
              "2.0     54\n",
              "1.0     40\n",
              "Name: count, dtype: int64"
            ]
          },
          "execution_count": 13,
          "metadata": {},
          "output_type": "execute_result"
        }
      ],
      "source": [
        "# Count the occurrences of each unique rating in the dataset\n",
        "restaurant_reviews_df.rating.value_counts()"
      ]
    },
    {
      "cell_type": "markdown",
      "metadata": {
        "id": "3RRWN5Wa2cKS"
      },
      "source": [
        "The data show a strong class imbalance toward 4 and 5 star ratings. This should be noted and addressed in further experiments that would be beyond the scope of these exercises.\n",
        "\n"
      ]
    },
    {
      "cell_type": "markdown",
      "metadata": {
        "id": "a8xVTbCQ41mo"
      },
      "source": [
        "##### Detecting non-english texts"
      ]
    },
    {
      "cell_type": "code",
      "execution_count": 14,
      "metadata": {
        "colab": {
          "base_uri": "https://localhost:8080/"
        },
        "id": "IdqueYbqxxod",
        "outputId": "e8bc5549-c08a-4056-e15f-03f099b6000e"
      },
      "outputs": [
        {
          "data": {
            "text/plain": [
              "lang\n",
              "en    963\n",
              "de     36\n",
              "ca      1\n",
              "Name: count, dtype: int64"
            ]
          },
          "execution_count": 14,
          "metadata": {},
          "output_type": "execute_result"
        }
      ],
      "source": [
        "# Detect the language of each review text\n",
        "restaurant_reviews_df[\"lang\"] = restaurant_reviews_df[\"text\"].apply(detect)\n",
        "\n",
        "# Count the occurrences of each detected language in the dataset\n",
        "restaurant_reviews_df.lang.value_counts()"
      ]
    },
    {
      "cell_type": "markdown",
      "metadata": {
        "id": "I5Tnj5602zjE"
      },
      "source": [
        "Although the review texts should be in English, some of the texts seem to be in German. This can optionally be addressed by filtering for all texts detected as English."
      ]
    },
    {
      "cell_type": "code",
      "execution_count": 15,
      "metadata": {
        "id": "tQ0zl-XC77Ef"
      },
      "outputs": [],
      "source": [
        "# Optional Data Preprocessing: Remove non-English reviews from the dataset\n",
        "# restaurant_reviews_df = restaurant_reviews_df[restaurant_reviews_df.lang == \"en\"]"
      ]
    },
    {
      "cell_type": "code",
      "execution_count": 16,
      "metadata": {
        "colab": {
          "base_uri": "https://localhost:8080/"
        },
        "id": "8wSxuGn6tVgd",
        "outputId": "44fa2581-7356-46a9-e873-61183c071ae2"
      },
      "outputs": [
        {
          "name": "stderr",
          "output_type": "stream",
          "text": [
            "[nltk_data] Downloading package stopwords to\n",
            "[nltk_data]     /home/mbrucker/nltk_data...\n",
            "[nltk_data]   Package stopwords is already up-to-date!\n",
            "[nltk_data] Downloading package wordnet to /home/mbrucker/nltk_data...\n"
          ]
        },
        {
          "data": {
            "text/plain": [
              "True"
            ]
          },
          "execution_count": 16,
          "metadata": {},
          "output_type": "execute_result"
        }
      ],
      "source": [
        "# Download necessary NLTK resources\n",
        "nltk.download(\"stopwords\")\n",
        "nltk.download(\"wordnet\")"
      ]
    },
    {
      "cell_type": "code",
      "execution_count": 17,
      "metadata": {
        "id": "DIZJS0hxuKzP"
      },
      "outputs": [],
      "source": [
        "# Initialize stemmer, lemmatizer, and stop words list for English text preprocessing\n",
        "stemmer = PorterStemmer()\n",
        "lemmatizer = WordNetLemmatizer()\n",
        "stop_words = set(stopwords.words(\"english\"))"
      ]
    },
    {
      "cell_type": "markdown",
      "metadata": {
        "id": "SO_qXHD13Ea5"
      },
      "source": [
        "Note: There are many different options when it comes to stemmers and lemmatizers."
      ]
    },
    {
      "cell_type": "markdown",
      "metadata": {
        "id": "Vag2dmWl6dak"
      },
      "source": [
        "##### Function Definitions"
      ]
    },
    {
      "cell_type": "code",
      "execution_count": 18,
      "metadata": {
        "id": "DrboQIzCtVj6"
      },
      "outputs": [],
      "source": [
        "def preprocess_text(text, lower=False, remove_stopwords=False, stemming=False, lemmatize=False):\n",
        "    \"\"\"\n",
        "    Preprocesses the input text with specified preprocessing steps.\n",
        "\n",
        "    Parameters:\n",
        "    - text: Input text to be preprocessed\n",
        "    - lower: If True, convert text to lowercase (default: False)\n",
        "    - remove_stopwords: If True, remove stopwords from text (default: False)\n",
        "    - stemming: If True, apply stemming to words in text (default: False)\n",
        "    - lemmatize: If True, apply lemmatization to words in text (default: False)\n",
        "\n",
        "    Returns:\n",
        "    - Preprocessed text\n",
        "    \"\"\"\n",
        "    if lower:\n",
        "        text = text.lower()\n",
        "\n",
        "    words = text.split()\n",
        "\n",
        "    if remove_stopwords:\n",
        "        words = [word for word in words if word not in stop_words]\n",
        "\n",
        "    if stemming:\n",
        "        words = [stemmer.stem(word) for word in words]\n",
        "\n",
        "    if lemmatize:\n",
        "        words = [lemmatizer.lemmatize(word) for word in words]\n",
        "\n",
        "    return \" \".join(words)"
      ]
    },
    {
      "cell_type": "code",
      "execution_count": 19,
      "metadata": {
        "id": "ZitFe7Fh35dt"
      },
      "outputs": [],
      "source": [
        "def vectorize_data(vectorizer, data, preprocess_config):\n",
        "    \"\"\"\n",
        "    Vectorizes text data using a specified vectorizer.\n",
        "\n",
        "    Parameters:\n",
        "    - vectorizer: Vectorizer object (e.g., CountVectorizer, TfidfVectorizer)\n",
        "    - data: DataFrame containing text data\n",
        "    - preprocess_config: Dictionary specifying preprocessing steps\n",
        "\n",
        "    Returns:\n",
        "    - Features\n",
        "    \"\"\"\n",
        "    # Preprocess text data\n",
        "    preprocessed_texts = data[\"text\"].apply(preprocess_text, **preprocess_config)\n",
        "\n",
        "    # Vectorize preprocessed text using the specified vectorizer\n",
        "    features = vectorizer.fit_transform(preprocessed_texts)\n",
        "\n",
        "    return features"
      ]
    },
    {
      "cell_type": "markdown",
      "metadata": {
        "id": "6ihQIPT75ZIi"
      },
      "source": [
        "##### Preprocessing Configurations"
      ]
    },
    {
      "cell_type": "code",
      "execution_count": 20,
      "metadata": {
        "id": "u7VKh0lQ2wdR"
      },
      "outputs": [],
      "source": [
        "# All combinations of preprocessing configurations\n",
        "preprocessing_configs = [\n",
        "    {\"lower\": False, \"remove_stopwords\": False, \"stemming\": False, \"lemmatize\": False},\n",
        "    {\"lower\": False, \"remove_stopwords\": False, \"stemming\": False, \"lemmatize\": True},\n",
        "    {\"lower\": False, \"remove_stopwords\": False, \"stemming\": True, \"lemmatize\": False},\n",
        "    {\"lower\": False, \"remove_stopwords\": False, \"stemming\": True, \"lemmatize\": True},\n",
        "    {\"lower\": False, \"remove_stopwords\": True, \"stemming\": False, \"lemmatize\": False},\n",
        "    {\"lower\": False, \"remove_stopwords\": True, \"stemming\": False, \"lemmatize\": True},\n",
        "    {\"lower\": False, \"remove_stopwords\": True, \"stemming\": True, \"lemmatize\": False},\n",
        "    {\"lower\": False, \"remove_stopwords\": True, \"stemming\": True, \"lemmatize\": True},\n",
        "    {\"lower\": True, \"remove_stopwords\": False, \"stemming\": False, \"lemmatize\": False},\n",
        "    {\"lower\": True, \"remove_stopwords\": False, \"stemming\": False, \"lemmatize\": True},\n",
        "    {\"lower\": True, \"remove_stopwords\": False, \"stemming\": True, \"lemmatize\": False},\n",
        "    {\"lower\": True, \"remove_stopwords\": False, \"stemming\": True, \"lemmatize\": True},\n",
        "    {\"lower\": True, \"remove_stopwords\": True, \"stemming\": False, \"lemmatize\": False},\n",
        "    {\"lower\": True, \"remove_stopwords\": True, \"stemming\": False, \"lemmatize\": True},\n",
        "    {\"lower\": True, \"remove_stopwords\": True, \"stemming\": True, \"lemmatize\": False},\n",
        "    {\"lower\": True, \"remove_stopwords\": True, \"stemming\": True, \"lemmatize\": True}\n",
        "]"
      ]
    },
    {
      "cell_type": "markdown",
      "metadata": {
        "id": "JiXl1D3T0cwl"
      },
      "source": [
        "#### Constants"
      ]
    },
    {
      "cell_type": "code",
      "execution_count": 21,
      "metadata": {
        "id": "ytvP_tiuMeZ9"
      },
      "outputs": [],
      "source": [
        "# Seed for random number generation to ensure reproducibility\n",
        "RANDOM_STATE = 42\n",
        "\n",
        "# Proportion of data allocated for testing\n",
        "TEST_SIZE = 0.25"
      ]
    },
    {
      "cell_type": "markdown",
      "metadata": {
        "id": "FjBXWjqHz90K"
      },
      "source": [
        "#### Analysis of different combinations of preprocessing techniques"
      ]
    },
    {
      "cell_type": "markdown",
      "metadata": {
        "id": "LGH6qGrT4m4Y"
      },
      "source": [
        "Multinomial Naive Bayes was chosen as the baseline model because (Multinomial) Naive Bayes is widely used as a baseline model in real-world natural language processing due to its simplicity.\n",
        "\n",
        "For the F1 score, the weighted average is used to account for the highly unbalanced class distribution of the dataset."
      ]
    },
    {
      "cell_type": "code",
      "execution_count": 22,
      "metadata": {
        "id": "v-UTBGsk39OS"
      },
      "outputs": [],
      "source": [
        "# Initialize CountVectorizer (Bag of Words) for converting text data into token counts\n",
        "vectorizer = CountVectorizer()"
      ]
    },
    {
      "cell_type": "code",
      "execution_count": 23,
      "metadata": {
        "id": "PBaDU5tG6lLo"
      },
      "outputs": [],
      "source": [
        "def analyze_preprocessing_techniques(df, configs):\n",
        "    \"\"\"\n",
        "    Analyzes the effect of different preprocessing techniques on classification performance.\n",
        "\n",
        "    Parameters:\n",
        "    - df: DataFrame containing text data and labels\n",
        "    - configs: List of dictionaries specifying different preprocessing configurations\n",
        "\n",
        "    Returns:\n",
        "    - DataFrame containing results sorted by accuracy and F1 score\n",
        "    \"\"\"\n",
        "    labels = df[\"rating\"]\n",
        "    results = []\n",
        "\n",
        "    for config in configs:\n",
        "        features = vectorize_data(vectorizer, df, config)\n",
        "\n",
        "        X_train, X_test, y_train, y_test = train_test_split(features, labels, test_size=TEST_SIZE, shuffle=True, random_state=RANDOM_STATE)\n",
        "\n",
        "        model = MultinomialNB()\n",
        "        model.fit(X_train, y_train)\n",
        "\n",
        "        predictions = model.predict(X_test)\n",
        "\n",
        "        acc = accuracy_score(y_test, predictions)\n",
        "        f1 = f1_score(y_test, predictions, average=\"weighted\")\n",
        "\n",
        "        results.append({\n",
        "            \"Lower\": config[\"lower\"],\n",
        "            \"Remove Stopwords\": config[\"remove_stopwords\"],\n",
        "            \"Stemming\": config[\"stemming\"],\n",
        "            \"Lemmatize\": config[\"lemmatize\"],\n",
        "            \"Accuracy\": acc,\n",
        "            \"F1 Score\": f1,\n",
        "            \"Feature Count\": X_train.shape[1]\n",
        "        })\n",
        "\n",
        "    results_df = pd.DataFrame(results)\n",
        "\n",
        "    sorted_results_df = results_df.sort_values(by=[\"Accuracy\", \"F1 Score\"], ascending=False)\n",
        "\n",
        "    return sorted_results_df"
      ]
    },
    {
      "cell_type": "code",
      "execution_count": 24,
      "metadata": {
        "colab": {
          "base_uri": "https://localhost:8080/",
          "height": 551
        },
        "id": "Xx3U91U97kIn",
        "outputId": "1d183c0a-d42e-4dad-df62-829879225dd7"
      },
      "outputs": [
        {
          "data": {
            "text/html": [
              "<div>\n",
              "<style scoped>\n",
              "    .dataframe tbody tr th:only-of-type {\n",
              "        vertical-align: middle;\n",
              "    }\n",
              "\n",
              "    .dataframe tbody tr th {\n",
              "        vertical-align: top;\n",
              "    }\n",
              "\n",
              "    .dataframe thead th {\n",
              "        text-align: right;\n",
              "    }\n",
              "</style>\n",
              "<table border=\"1\" class=\"dataframe\">\n",
              "  <thead>\n",
              "    <tr style=\"text-align: right;\">\n",
              "      <th></th>\n",
              "      <th>Lower</th>\n",
              "      <th>Remove Stopwords</th>\n",
              "      <th>Stemming</th>\n",
              "      <th>Lemmatize</th>\n",
              "      <th>Accuracy</th>\n",
              "      <th>F1 Score</th>\n",
              "      <th>Feature Count</th>\n",
              "    </tr>\n",
              "  </thead>\n",
              "  <tbody>\n",
              "    <tr>\n",
              "      <th>4</th>\n",
              "      <td>False</td>\n",
              "      <td>True</td>\n",
              "      <td>False</td>\n",
              "      <td>False</td>\n",
              "      <td>0.592</td>\n",
              "      <td>0.556436</td>\n",
              "      <td>6045</td>\n",
              "    </tr>\n",
              "    <tr>\n",
              "      <th>9</th>\n",
              "      <td>True</td>\n",
              "      <td>False</td>\n",
              "      <td>False</td>\n",
              "      <td>True</td>\n",
              "      <td>0.592</td>\n",
              "      <td>0.550583</td>\n",
              "      <td>5888</td>\n",
              "    </tr>\n",
              "    <tr>\n",
              "      <th>5</th>\n",
              "      <td>False</td>\n",
              "      <td>True</td>\n",
              "      <td>False</td>\n",
              "      <td>True</td>\n",
              "      <td>0.588</td>\n",
              "      <td>0.550838</td>\n",
              "      <td>5896</td>\n",
              "    </tr>\n",
              "    <tr>\n",
              "      <th>12</th>\n",
              "      <td>True</td>\n",
              "      <td>True</td>\n",
              "      <td>False</td>\n",
              "      <td>False</td>\n",
              "      <td>0.584</td>\n",
              "      <td>0.551881</td>\n",
              "      <td>6028</td>\n",
              "    </tr>\n",
              "    <tr>\n",
              "      <th>1</th>\n",
              "      <td>False</td>\n",
              "      <td>False</td>\n",
              "      <td>False</td>\n",
              "      <td>True</td>\n",
              "      <td>0.584</td>\n",
              "      <td>0.543905</td>\n",
              "      <td>5914</td>\n",
              "    </tr>\n",
              "    <tr>\n",
              "      <th>13</th>\n",
              "      <td>True</td>\n",
              "      <td>True</td>\n",
              "      <td>False</td>\n",
              "      <td>True</td>\n",
              "      <td>0.576</td>\n",
              "      <td>0.542476</td>\n",
              "      <td>5854</td>\n",
              "    </tr>\n",
              "    <tr>\n",
              "      <th>6</th>\n",
              "      <td>False</td>\n",
              "      <td>True</td>\n",
              "      <td>True</td>\n",
              "      <td>False</td>\n",
              "      <td>0.572</td>\n",
              "      <td>0.531089</td>\n",
              "      <td>5714</td>\n",
              "    </tr>\n",
              "    <tr>\n",
              "      <th>7</th>\n",
              "      <td>False</td>\n",
              "      <td>True</td>\n",
              "      <td>True</td>\n",
              "      <td>True</td>\n",
              "      <td>0.568</td>\n",
              "      <td>0.527816</td>\n",
              "      <td>5710</td>\n",
              "    </tr>\n",
              "    <tr>\n",
              "      <th>0</th>\n",
              "      <td>False</td>\n",
              "      <td>False</td>\n",
              "      <td>False</td>\n",
              "      <td>False</td>\n",
              "      <td>0.564</td>\n",
              "      <td>0.524023</td>\n",
              "      <td>6060</td>\n",
              "    </tr>\n",
              "    <tr>\n",
              "      <th>8</th>\n",
              "      <td>True</td>\n",
              "      <td>False</td>\n",
              "      <td>False</td>\n",
              "      <td>False</td>\n",
              "      <td>0.564</td>\n",
              "      <td>0.524023</td>\n",
              "      <td>6060</td>\n",
              "    </tr>\n",
              "    <tr>\n",
              "      <th>15</th>\n",
              "      <td>True</td>\n",
              "      <td>True</td>\n",
              "      <td>True</td>\n",
              "      <td>True</td>\n",
              "      <td>0.560</td>\n",
              "      <td>0.525183</td>\n",
              "      <td>5691</td>\n",
              "    </tr>\n",
              "    <tr>\n",
              "      <th>14</th>\n",
              "      <td>True</td>\n",
              "      <td>True</td>\n",
              "      <td>True</td>\n",
              "      <td>False</td>\n",
              "      <td>0.560</td>\n",
              "      <td>0.524459</td>\n",
              "      <td>5694</td>\n",
              "    </tr>\n",
              "    <tr>\n",
              "      <th>3</th>\n",
              "      <td>False</td>\n",
              "      <td>False</td>\n",
              "      <td>True</td>\n",
              "      <td>True</td>\n",
              "      <td>0.552</td>\n",
              "      <td>0.509485</td>\n",
              "      <td>5728</td>\n",
              "    </tr>\n",
              "    <tr>\n",
              "      <th>11</th>\n",
              "      <td>True</td>\n",
              "      <td>False</td>\n",
              "      <td>True</td>\n",
              "      <td>True</td>\n",
              "      <td>0.552</td>\n",
              "      <td>0.509485</td>\n",
              "      <td>5728</td>\n",
              "    </tr>\n",
              "    <tr>\n",
              "      <th>2</th>\n",
              "      <td>False</td>\n",
              "      <td>False</td>\n",
              "      <td>True</td>\n",
              "      <td>False</td>\n",
              "      <td>0.544</td>\n",
              "      <td>0.501065</td>\n",
              "      <td>5732</td>\n",
              "    </tr>\n",
              "    <tr>\n",
              "      <th>10</th>\n",
              "      <td>True</td>\n",
              "      <td>False</td>\n",
              "      <td>True</td>\n",
              "      <td>False</td>\n",
              "      <td>0.544</td>\n",
              "      <td>0.501065</td>\n",
              "      <td>5732</td>\n",
              "    </tr>\n",
              "  </tbody>\n",
              "</table>\n",
              "</div>"
            ],
            "text/plain": [
              "    Lower  Remove Stopwords  Stemming  Lemmatize  Accuracy  F1 Score  \\\n",
              "4   False              True     False      False     0.592  0.556436   \n",
              "9    True             False     False       True     0.592  0.550583   \n",
              "5   False              True     False       True     0.588  0.550838   \n",
              "12   True              True     False      False     0.584  0.551881   \n",
              "1   False             False     False       True     0.584  0.543905   \n",
              "13   True              True     False       True     0.576  0.542476   \n",
              "6   False              True      True      False     0.572  0.531089   \n",
              "7   False              True      True       True     0.568  0.527816   \n",
              "0   False             False     False      False     0.564  0.524023   \n",
              "8    True             False     False      False     0.564  0.524023   \n",
              "15   True              True      True       True     0.560  0.525183   \n",
              "14   True              True      True      False     0.560  0.524459   \n",
              "3   False             False      True       True     0.552  0.509485   \n",
              "11   True             False      True       True     0.552  0.509485   \n",
              "2   False             False      True      False     0.544  0.501065   \n",
              "10   True             False      True      False     0.544  0.501065   \n",
              "\n",
              "    Feature Count  \n",
              "4            6045  \n",
              "9            5888  \n",
              "5            5896  \n",
              "12           6028  \n",
              "1            5914  \n",
              "13           5854  \n",
              "6            5714  \n",
              "7            5710  \n",
              "0            6060  \n",
              "8            6060  \n",
              "15           5691  \n",
              "14           5694  \n",
              "3            5728  \n",
              "11           5728  \n",
              "2            5732  \n",
              "10           5732  "
            ]
          },
          "execution_count": 24,
          "metadata": {},
          "output_type": "execute_result"
        }
      ],
      "source": [
        "# Analyze the effect of different preprocessing techniques on model performance\n",
        "preprocessing_techniques_df = analyze_preprocessing_techniques(restaurant_reviews_df, preprocessing_configs)\n",
        "preprocessing_techniques_df"
      ]
    },
    {
      "cell_type": "markdown",
      "metadata": {
        "id": "pHRvc3HL9vPW"
      },
      "source": [
        "|   | Lower | Remove Stopwords | Stemming | Lemmatize | Accuracy | F1 Score | Feature Count |\n",
        "|---|-------|------------------|----------|-----------|----------|----------|---------------|\n",
        "| 4 | False | True             | False    | False     | 0.592    | 0.556    | 6045          |\n",
        "| 9 | True  | False            | False    | True      | 0.592    | 0.551    | 5888          |\n",
        "| 5 | False | True             | False    | True      | 0.588    | 0.551    | 5896          |\n",
        "| 12| True  | True             | False    | False     | 0.584    | 0.552    | 6028          |\n",
        "| 1 | False | False            | False    | True      | 0.584    | 0.544    | 5914          |\n",
        "| 13| True  | True             | False    | True      | 0.576    | 0.542    | 5854          |\n",
        "| 6 | False | True             | True     | False     | 0.572    | 0.531    | 5714          |\n",
        "| 7 | False | True             | True     | True      | 0.568    | 0.528    | 5710          |\n",
        "| 0 | False | False            | False    | False     | 0.564    | 0.524    | 6060          |\n",
        "| 8 | True  | False            | False    | False     | 0.564    | 0.524    | 6060          |\n",
        "| 15| True  | True             | True     | True      | 0.560    | 0.525    | 5691          |\n",
        "| 14| True  | True             | True     | False     | 0.560    | 0.524    | 5694          |\n",
        "| 3 | False | False            | True     | True      | 0.552    | 0.509    | 5728          |\n",
        "| 11| True  | False            | True     | True      | 0.552    | 0.509    | 5728          |\n",
        "| 2 | False | False            | True     | False     | 0.544    | 0.501    | 5732          |\n",
        "| 10| True  | False            | True     | False     | 0.544    | 0.501    | 5732          |\n"
      ]
    },
    {
      "cell_type": "markdown",
      "metadata": {
        "id": "hxXWKOgJ5Dd3"
      },
      "source": [
        "From the results we can see that stemming (at least with the stemmer chosen for this particular dataset) is not a good choice of preprocessing technique. The best 6 runs according to accuracy and F1 score have no stemming applied, while the worst 6 runs have stemming applied. So in this particular case, stemming is not a good choice.\n",
        "\n",
        "Furthermore, the results for no preprocessing technique applied and all given preprocessing techniques applied are in the middle range when it comes to accuracy and F1 score.\n",
        "\n",
        "The best 5 runs have at most 2 preprocessing techniques applied. However, some runs with 3 preprocessing techniques applied are not that far from the accuracy and F1 score of the top 5 runs.\n",
        "\n",
        "When it comes to the number of features of each run, there are some differences, but they are within a reasonable range of less than 400 features difference between the run with the most features and the run with the least features."
      ]
    },
    {
      "cell_type": "code",
      "execution_count": 25,
      "metadata": {
        "colab": {
          "base_uri": "https://localhost:8080/"
        },
        "id": "ni-b0295f98v",
        "outputId": "233b7de2-a41c-4db0-c3ec-659fcda1c409"
      },
      "outputs": [
        {
          "data": {
            "text/plain": [
              "{'lower': False,\n",
              " 'remove_stopwords': True,\n",
              " 'stemming': False,\n",
              " 'lemmatize': False}"
            ]
          },
          "execution_count": 25,
          "metadata": {},
          "output_type": "execute_result"
        }
      ],
      "source": [
        "# Extract the best preprocessing configuration from the analysis results DataFrame\n",
        "best_config = preprocessing_techniques_df.rename(columns={\n",
        "    \"Lower\": \"lower\",\n",
        "    \"Remove Stopwords\": \"remove_stopwords\",\n",
        "    \"Stemming\": \"stemming\",\n",
        "    \"Lemmatize\": \"lemmatize\"\n",
        "})[[\"lower\", \"remove_stopwords\", \"stemming\", \"lemmatize\"]].iloc[0].to_dict()\n",
        "\n",
        "# Display the best configuration as a dictionary\n",
        "best_config"
      ]
    },
    {
      "cell_type": "markdown",
      "metadata": {
        "id": "9GOEu9mr6Ugx"
      },
      "source": [
        "The best combination of preprocessing techniques for this particular dataset with the chosen stemmer and lemmatizer is\n",
        "- No lowercase\n",
        "- Remove stop words\n",
        "- No stemming\n",
        "- No lemmatization"
      ]
    },
    {
      "cell_type": "markdown",
      "metadata": {
        "id": "ZkiNL9R4xv6B"
      },
      "source": [
        "### Exercise 2\n",
        "\n",
        "Pick the best preprocessing strategy from Exercise 1 and vary ONLY your feature engineering strategy: bag of words, TF-IDF, bag of 2-grams. Keep the rest of your setup fixed.\n",
        "\n",
        "Evaluate the performance of your models on a holdout set. Provide a table with the evaluation results.\n",
        "\n",
        "Briefly summarize your main findings."
      ]
    },
    {
      "cell_type": "markdown",
      "metadata": {
        "id": "nD61HOQD0Hn8"
      },
      "source": [
        "#### Analysis of different feature engineering methods"
      ]
    },
    {
      "cell_type": "code",
      "execution_count": 26,
      "metadata": {
        "id": "pSukiICL8Y1n"
      },
      "outputs": [],
      "source": [
        "# Dictionary of different vectorizer configurations\n",
        "vectorizer_configs = {\n",
        "    \"Bag of Words\": CountVectorizer(),\n",
        "    \"TF-IDF\": TfidfVectorizer(),\n",
        "    \"Bag of 2-grams\": CountVectorizer(ngram_range=(1, 2))\n",
        "}"
      ]
    },
    {
      "cell_type": "code",
      "execution_count": 27,
      "metadata": {
        "id": "3n1MjiotFkd9"
      },
      "outputs": [],
      "source": [
        "def analyze_vectorizers(df, configs):\n",
        "    \"\"\"\n",
        "    Analyzes the performance of different vectorization techniques on classification.\n",
        "\n",
        "    Parameters:\n",
        "    - df: DataFrame containing text data and labels\n",
        "    - configs: Dictionary of vectorizer configurations\n",
        "\n",
        "    Returns:\n",
        "    - DataFrame containing results sorted by accuracy and F1 score\n",
        "    \"\"\"\n",
        "    labels = df[\"rating\"]\n",
        "    results = []\n",
        "\n",
        "    for name, vectorizer in configs.items():\n",
        "        features = vectorize_data(vectorizer, df, best_config)\n",
        "\n",
        "        X_train, X_test, y_train, y_test = train_test_split(features, labels, test_size=TEST_SIZE, shuffle=True, random_state=RANDOM_STATE)\n",
        "\n",
        "        model = MultinomialNB()\n",
        "        model.fit(X_train, y_train)\n",
        "\n",
        "        predictions = model.predict(X_test)\n",
        "\n",
        "        acc = accuracy_score(y_test, predictions)\n",
        "        f1 = f1_score(y_test, predictions, average=\"weighted\")\n",
        "\n",
        "        results.append({\n",
        "            \"Vectorizer\": name,\n",
        "            \"Accuracy\": acc,\n",
        "            \"F1 Score\": f1,\n",
        "            \"Feature Count\": features.shape[1]\n",
        "        })\n",
        "\n",
        "    results_df = pd.DataFrame(results)\n",
        "\n",
        "    sorted_results_df = results_df.sort_values(by=[\"Accuracy\", \"F1 Score\"], ascending=False)\n",
        "\n",
        "    return sorted_results_df"
      ]
    },
    {
      "cell_type": "code",
      "execution_count": 28,
      "metadata": {
        "colab": {
          "base_uri": "https://localhost:8080/",
          "height": 143
        },
        "id": "T3YvmVT58jve",
        "outputId": "a32b477f-ce4e-4e7b-d5bb-fad8181a945c"
      },
      "outputs": [
        {
          "data": {
            "text/html": [
              "<div>\n",
              "<style scoped>\n",
              "    .dataframe tbody tr th:only-of-type {\n",
              "        vertical-align: middle;\n",
              "    }\n",
              "\n",
              "    .dataframe tbody tr th {\n",
              "        vertical-align: top;\n",
              "    }\n",
              "\n",
              "    .dataframe thead th {\n",
              "        text-align: right;\n",
              "    }\n",
              "</style>\n",
              "<table border=\"1\" class=\"dataframe\">\n",
              "  <thead>\n",
              "    <tr style=\"text-align: right;\">\n",
              "      <th></th>\n",
              "      <th>Vectorizer</th>\n",
              "      <th>Accuracy</th>\n",
              "      <th>F1 Score</th>\n",
              "      <th>Feature Count</th>\n",
              "    </tr>\n",
              "  </thead>\n",
              "  <tbody>\n",
              "    <tr>\n",
              "      <th>0</th>\n",
              "      <td>Bag of Words</td>\n",
              "      <td>0.592</td>\n",
              "      <td>0.556436</td>\n",
              "      <td>6045</td>\n",
              "    </tr>\n",
              "    <tr>\n",
              "      <th>2</th>\n",
              "      <td>Bag of 2-grams</td>\n",
              "      <td>0.588</td>\n",
              "      <td>0.559372</td>\n",
              "      <td>35218</td>\n",
              "    </tr>\n",
              "    <tr>\n",
              "      <th>1</th>\n",
              "      <td>TF-IDF</td>\n",
              "      <td>0.480</td>\n",
              "      <td>0.334423</td>\n",
              "      <td>6045</td>\n",
              "    </tr>\n",
              "  </tbody>\n",
              "</table>\n",
              "</div>"
            ],
            "text/plain": [
              "       Vectorizer  Accuracy  F1 Score  Feature Count\n",
              "0    Bag of Words     0.592  0.556436           6045\n",
              "2  Bag of 2-grams     0.588  0.559372          35218\n",
              "1          TF-IDF     0.480  0.334423           6045"
            ]
          },
          "execution_count": 28,
          "metadata": {},
          "output_type": "execute_result"
        }
      ],
      "source": [
        "feature_engineering_df = analyze_vectorizers(restaurant_reviews_df, vectorizer_configs)\n",
        "feature_engineering_df.head()"
      ]
    },
    {
      "cell_type": "markdown",
      "metadata": {
        "id": "G3lGQkMA-GKG"
      },
      "source": [
        "|   | Vectorizer      | Accuracy | F1 Score | Feature Count |\n",
        "|---|-----------------|----------|----------|---------------|\n",
        "| 0 | Bag of Words    | 0.592    | 0.556    | 6045          |\n",
        "| 2 | Bag of 2-grams  | 0.588    | 0.559    | 35218         |\n",
        "| 1 | TF-IDF          | 0.480    | 0.334    | 6045          |"
      ]
    },
    {
      "cell_type": "markdown",
      "metadata": {
        "id": "nkhs0nux6kcp"
      },
      "source": [
        "Changing the feature engineering technique (the vectorizer) has a significant impact on the accuracy and F1 score of the runs. While Bag of Words remains the same (since nothing has changed), Bag of 2-grams is slightly worse in accuracy but slightly better in F1 score. The slightly better F1 score comes at the cost of a much higher feature count.\n",
        "\n",
        "TF-IDF performs much worse in accuracy and even worse in F1 score for the given configuration of preprocessing techniques, and is far from the results of the other feature engineering techniques."
      ]
    },
    {
      "cell_type": "code",
      "execution_count": 29,
      "metadata": {
        "colab": {
          "base_uri": "https://localhost:8080/",
          "height": 74
        },
        "id": "mTK3SWfzlnBr",
        "outputId": "bf4400f8-7ead-4f69-83d0-5bcf6ddfe74d"
      },
      "outputs": [
        {
          "data": {
            "text/html": [
              "<style>#sk-container-id-1 {\n",
              "  /* Definition of color scheme common for light and dark mode */\n",
              "  --sklearn-color-text: black;\n",
              "  --sklearn-color-line: gray;\n",
              "  /* Definition of color scheme for unfitted estimators */\n",
              "  --sklearn-color-unfitted-level-0: #fff5e6;\n",
              "  --sklearn-color-unfitted-level-1: #f6e4d2;\n",
              "  --sklearn-color-unfitted-level-2: #ffe0b3;\n",
              "  --sklearn-color-unfitted-level-3: chocolate;\n",
              "  /* Definition of color scheme for fitted estimators */\n",
              "  --sklearn-color-fitted-level-0: #f0f8ff;\n",
              "  --sklearn-color-fitted-level-1: #d4ebff;\n",
              "  --sklearn-color-fitted-level-2: #b3dbfd;\n",
              "  --sklearn-color-fitted-level-3: cornflowerblue;\n",
              "\n",
              "  /* Specific color for light theme */\n",
              "  --sklearn-color-text-on-default-background: var(--sg-text-color, var(--theme-code-foreground, var(--jp-content-font-color1, black)));\n",
              "  --sklearn-color-background: var(--sg-background-color, var(--theme-background, var(--jp-layout-color0, white)));\n",
              "  --sklearn-color-border-box: var(--sg-text-color, var(--theme-code-foreground, var(--jp-content-font-color1, black)));\n",
              "  --sklearn-color-icon: #696969;\n",
              "\n",
              "  @media (prefers-color-scheme: dark) {\n",
              "    /* Redefinition of color scheme for dark theme */\n",
              "    --sklearn-color-text-on-default-background: var(--sg-text-color, var(--theme-code-foreground, var(--jp-content-font-color1, white)));\n",
              "    --sklearn-color-background: var(--sg-background-color, var(--theme-background, var(--jp-layout-color0, #111)));\n",
              "    --sklearn-color-border-box: var(--sg-text-color, var(--theme-code-foreground, var(--jp-content-font-color1, white)));\n",
              "    --sklearn-color-icon: #878787;\n",
              "  }\n",
              "}\n",
              "\n",
              "#sk-container-id-1 {\n",
              "  color: var(--sklearn-color-text);\n",
              "}\n",
              "\n",
              "#sk-container-id-1 pre {\n",
              "  padding: 0;\n",
              "}\n",
              "\n",
              "#sk-container-id-1 input.sk-hidden--visually {\n",
              "  border: 0;\n",
              "  clip: rect(1px 1px 1px 1px);\n",
              "  clip: rect(1px, 1px, 1px, 1px);\n",
              "  height: 1px;\n",
              "  margin: -1px;\n",
              "  overflow: hidden;\n",
              "  padding: 0;\n",
              "  position: absolute;\n",
              "  width: 1px;\n",
              "}\n",
              "\n",
              "#sk-container-id-1 div.sk-dashed-wrapped {\n",
              "  border: 1px dashed var(--sklearn-color-line);\n",
              "  margin: 0 0.4em 0.5em 0.4em;\n",
              "  box-sizing: border-box;\n",
              "  padding-bottom: 0.4em;\n",
              "  background-color: var(--sklearn-color-background);\n",
              "}\n",
              "\n",
              "#sk-container-id-1 div.sk-container {\n",
              "  /* jupyter's `normalize.less` sets `[hidden] { display: none; }`\n",
              "     but bootstrap.min.css set `[hidden] { display: none !important; }`\n",
              "     so we also need the `!important` here to be able to override the\n",
              "     default hidden behavior on the sphinx rendered scikit-learn.org.\n",
              "     See: https://github.com/scikit-learn/scikit-learn/issues/21755 */\n",
              "  display: inline-block !important;\n",
              "  position: relative;\n",
              "}\n",
              "\n",
              "#sk-container-id-1 div.sk-text-repr-fallback {\n",
              "  display: none;\n",
              "}\n",
              "\n",
              "div.sk-parallel-item,\n",
              "div.sk-serial,\n",
              "div.sk-item {\n",
              "  /* draw centered vertical line to link estimators */\n",
              "  background-image: linear-gradient(var(--sklearn-color-text-on-default-background), var(--sklearn-color-text-on-default-background));\n",
              "  background-size: 2px 100%;\n",
              "  background-repeat: no-repeat;\n",
              "  background-position: center center;\n",
              "}\n",
              "\n",
              "/* Parallel-specific style estimator block */\n",
              "\n",
              "#sk-container-id-1 div.sk-parallel-item::after {\n",
              "  content: \"\";\n",
              "  width: 100%;\n",
              "  border-bottom: 2px solid var(--sklearn-color-text-on-default-background);\n",
              "  flex-grow: 1;\n",
              "}\n",
              "\n",
              "#sk-container-id-1 div.sk-parallel {\n",
              "  display: flex;\n",
              "  align-items: stretch;\n",
              "  justify-content: center;\n",
              "  background-color: var(--sklearn-color-background);\n",
              "  position: relative;\n",
              "}\n",
              "\n",
              "#sk-container-id-1 div.sk-parallel-item {\n",
              "  display: flex;\n",
              "  flex-direction: column;\n",
              "}\n",
              "\n",
              "#sk-container-id-1 div.sk-parallel-item:first-child::after {\n",
              "  align-self: flex-end;\n",
              "  width: 50%;\n",
              "}\n",
              "\n",
              "#sk-container-id-1 div.sk-parallel-item:last-child::after {\n",
              "  align-self: flex-start;\n",
              "  width: 50%;\n",
              "}\n",
              "\n",
              "#sk-container-id-1 div.sk-parallel-item:only-child::after {\n",
              "  width: 0;\n",
              "}\n",
              "\n",
              "/* Serial-specific style estimator block */\n",
              "\n",
              "#sk-container-id-1 div.sk-serial {\n",
              "  display: flex;\n",
              "  flex-direction: column;\n",
              "  align-items: center;\n",
              "  background-color: var(--sklearn-color-background);\n",
              "  padding-right: 1em;\n",
              "  padding-left: 1em;\n",
              "}\n",
              "\n",
              "\n",
              "/* Toggleable style: style used for estimator/Pipeline/ColumnTransformer box that is\n",
              "clickable and can be expanded/collapsed.\n",
              "- Pipeline and ColumnTransformer use this feature and define the default style\n",
              "- Estimators will overwrite some part of the style using the `sk-estimator` class\n",
              "*/\n",
              "\n",
              "/* Pipeline and ColumnTransformer style (default) */\n",
              "\n",
              "#sk-container-id-1 div.sk-toggleable {\n",
              "  /* Default theme specific background. It is overwritten whether we have a\n",
              "  specific estimator or a Pipeline/ColumnTransformer */\n",
              "  background-color: var(--sklearn-color-background);\n",
              "}\n",
              "\n",
              "/* Toggleable label */\n",
              "#sk-container-id-1 label.sk-toggleable__label {\n",
              "  cursor: pointer;\n",
              "  display: block;\n",
              "  width: 100%;\n",
              "  margin-bottom: 0;\n",
              "  padding: 0.5em;\n",
              "  box-sizing: border-box;\n",
              "  text-align: center;\n",
              "}\n",
              "\n",
              "#sk-container-id-1 label.sk-toggleable__label-arrow:before {\n",
              "  /* Arrow on the left of the label */\n",
              "  content: \"▸\";\n",
              "  float: left;\n",
              "  margin-right: 0.25em;\n",
              "  color: var(--sklearn-color-icon);\n",
              "}\n",
              "\n",
              "#sk-container-id-1 label.sk-toggleable__label-arrow:hover:before {\n",
              "  color: var(--sklearn-color-text);\n",
              "}\n",
              "\n",
              "/* Toggleable content - dropdown */\n",
              "\n",
              "#sk-container-id-1 div.sk-toggleable__content {\n",
              "  max-height: 0;\n",
              "  max-width: 0;\n",
              "  overflow: hidden;\n",
              "  text-align: left;\n",
              "  /* unfitted */\n",
              "  background-color: var(--sklearn-color-unfitted-level-0);\n",
              "}\n",
              "\n",
              "#sk-container-id-1 div.sk-toggleable__content.fitted {\n",
              "  /* fitted */\n",
              "  background-color: var(--sklearn-color-fitted-level-0);\n",
              "}\n",
              "\n",
              "#sk-container-id-1 div.sk-toggleable__content pre {\n",
              "  margin: 0.2em;\n",
              "  border-radius: 0.25em;\n",
              "  color: var(--sklearn-color-text);\n",
              "  /* unfitted */\n",
              "  background-color: var(--sklearn-color-unfitted-level-0);\n",
              "}\n",
              "\n",
              "#sk-container-id-1 div.sk-toggleable__content.fitted pre {\n",
              "  /* unfitted */\n",
              "  background-color: var(--sklearn-color-fitted-level-0);\n",
              "}\n",
              "\n",
              "#sk-container-id-1 input.sk-toggleable__control:checked~div.sk-toggleable__content {\n",
              "  /* Expand drop-down */\n",
              "  max-height: 200px;\n",
              "  max-width: 100%;\n",
              "  overflow: auto;\n",
              "}\n",
              "\n",
              "#sk-container-id-1 input.sk-toggleable__control:checked~label.sk-toggleable__label-arrow:before {\n",
              "  content: \"▾\";\n",
              "}\n",
              "\n",
              "/* Pipeline/ColumnTransformer-specific style */\n",
              "\n",
              "#sk-container-id-1 div.sk-label input.sk-toggleable__control:checked~label.sk-toggleable__label {\n",
              "  color: var(--sklearn-color-text);\n",
              "  background-color: var(--sklearn-color-unfitted-level-2);\n",
              "}\n",
              "\n",
              "#sk-container-id-1 div.sk-label.fitted input.sk-toggleable__control:checked~label.sk-toggleable__label {\n",
              "  background-color: var(--sklearn-color-fitted-level-2);\n",
              "}\n",
              "\n",
              "/* Estimator-specific style */\n",
              "\n",
              "/* Colorize estimator box */\n",
              "#sk-container-id-1 div.sk-estimator input.sk-toggleable__control:checked~label.sk-toggleable__label {\n",
              "  /* unfitted */\n",
              "  background-color: var(--sklearn-color-unfitted-level-2);\n",
              "}\n",
              "\n",
              "#sk-container-id-1 div.sk-estimator.fitted input.sk-toggleable__control:checked~label.sk-toggleable__label {\n",
              "  /* fitted */\n",
              "  background-color: var(--sklearn-color-fitted-level-2);\n",
              "}\n",
              "\n",
              "#sk-container-id-1 div.sk-label label.sk-toggleable__label,\n",
              "#sk-container-id-1 div.sk-label label {\n",
              "  /* The background is the default theme color */\n",
              "  color: var(--sklearn-color-text-on-default-background);\n",
              "}\n",
              "\n",
              "/* On hover, darken the color of the background */\n",
              "#sk-container-id-1 div.sk-label:hover label.sk-toggleable__label {\n",
              "  color: var(--sklearn-color-text);\n",
              "  background-color: var(--sklearn-color-unfitted-level-2);\n",
              "}\n",
              "\n",
              "/* Label box, darken color on hover, fitted */\n",
              "#sk-container-id-1 div.sk-label.fitted:hover label.sk-toggleable__label.fitted {\n",
              "  color: var(--sklearn-color-text);\n",
              "  background-color: var(--sklearn-color-fitted-level-2);\n",
              "}\n",
              "\n",
              "/* Estimator label */\n",
              "\n",
              "#sk-container-id-1 div.sk-label label {\n",
              "  font-family: monospace;\n",
              "  font-weight: bold;\n",
              "  display: inline-block;\n",
              "  line-height: 1.2em;\n",
              "}\n",
              "\n",
              "#sk-container-id-1 div.sk-label-container {\n",
              "  text-align: center;\n",
              "}\n",
              "\n",
              "/* Estimator-specific */\n",
              "#sk-container-id-1 div.sk-estimator {\n",
              "  font-family: monospace;\n",
              "  border: 1px dotted var(--sklearn-color-border-box);\n",
              "  border-radius: 0.25em;\n",
              "  box-sizing: border-box;\n",
              "  margin-bottom: 0.5em;\n",
              "  /* unfitted */\n",
              "  background-color: var(--sklearn-color-unfitted-level-0);\n",
              "}\n",
              "\n",
              "#sk-container-id-1 div.sk-estimator.fitted {\n",
              "  /* fitted */\n",
              "  background-color: var(--sklearn-color-fitted-level-0);\n",
              "}\n",
              "\n",
              "/* on hover */\n",
              "#sk-container-id-1 div.sk-estimator:hover {\n",
              "  /* unfitted */\n",
              "  background-color: var(--sklearn-color-unfitted-level-2);\n",
              "}\n",
              "\n",
              "#sk-container-id-1 div.sk-estimator.fitted:hover {\n",
              "  /* fitted */\n",
              "  background-color: var(--sklearn-color-fitted-level-2);\n",
              "}\n",
              "\n",
              "/* Specification for estimator info (e.g. \"i\" and \"?\") */\n",
              "\n",
              "/* Common style for \"i\" and \"?\" */\n",
              "\n",
              ".sk-estimator-doc-link,\n",
              "a:link.sk-estimator-doc-link,\n",
              "a:visited.sk-estimator-doc-link {\n",
              "  float: right;\n",
              "  font-size: smaller;\n",
              "  line-height: 1em;\n",
              "  font-family: monospace;\n",
              "  background-color: var(--sklearn-color-background);\n",
              "  border-radius: 1em;\n",
              "  height: 1em;\n",
              "  width: 1em;\n",
              "  text-decoration: none !important;\n",
              "  margin-left: 1ex;\n",
              "  /* unfitted */\n",
              "  border: var(--sklearn-color-unfitted-level-1) 1pt solid;\n",
              "  color: var(--sklearn-color-unfitted-level-1);\n",
              "}\n",
              "\n",
              ".sk-estimator-doc-link.fitted,\n",
              "a:link.sk-estimator-doc-link.fitted,\n",
              "a:visited.sk-estimator-doc-link.fitted {\n",
              "  /* fitted */\n",
              "  border: var(--sklearn-color-fitted-level-1) 1pt solid;\n",
              "  color: var(--sklearn-color-fitted-level-1);\n",
              "}\n",
              "\n",
              "/* On hover */\n",
              "div.sk-estimator:hover .sk-estimator-doc-link:hover,\n",
              ".sk-estimator-doc-link:hover,\n",
              "div.sk-label-container:hover .sk-estimator-doc-link:hover,\n",
              ".sk-estimator-doc-link:hover {\n",
              "  /* unfitted */\n",
              "  background-color: var(--sklearn-color-unfitted-level-3);\n",
              "  color: var(--sklearn-color-background);\n",
              "  text-decoration: none;\n",
              "}\n",
              "\n",
              "div.sk-estimator.fitted:hover .sk-estimator-doc-link.fitted:hover,\n",
              ".sk-estimator-doc-link.fitted:hover,\n",
              "div.sk-label-container:hover .sk-estimator-doc-link.fitted:hover,\n",
              ".sk-estimator-doc-link.fitted:hover {\n",
              "  /* fitted */\n",
              "  background-color: var(--sklearn-color-fitted-level-3);\n",
              "  color: var(--sklearn-color-background);\n",
              "  text-decoration: none;\n",
              "}\n",
              "\n",
              "/* Span, style for the box shown on hovering the info icon */\n",
              ".sk-estimator-doc-link span {\n",
              "  display: none;\n",
              "  z-index: 9999;\n",
              "  position: relative;\n",
              "  font-weight: normal;\n",
              "  right: .2ex;\n",
              "  padding: .5ex;\n",
              "  margin: .5ex;\n",
              "  width: min-content;\n",
              "  min-width: 20ex;\n",
              "  max-width: 50ex;\n",
              "  color: var(--sklearn-color-text);\n",
              "  box-shadow: 2pt 2pt 4pt #999;\n",
              "  /* unfitted */\n",
              "  background: var(--sklearn-color-unfitted-level-0);\n",
              "  border: .5pt solid var(--sklearn-color-unfitted-level-3);\n",
              "}\n",
              "\n",
              ".sk-estimator-doc-link.fitted span {\n",
              "  /* fitted */\n",
              "  background: var(--sklearn-color-fitted-level-0);\n",
              "  border: var(--sklearn-color-fitted-level-3);\n",
              "}\n",
              "\n",
              ".sk-estimator-doc-link:hover span {\n",
              "  display: block;\n",
              "}\n",
              "\n",
              "/* \"?\"-specific style due to the `<a>` HTML tag */\n",
              "\n",
              "#sk-container-id-1 a.estimator_doc_link {\n",
              "  float: right;\n",
              "  font-size: 1rem;\n",
              "  line-height: 1em;\n",
              "  font-family: monospace;\n",
              "  background-color: var(--sklearn-color-background);\n",
              "  border-radius: 1rem;\n",
              "  height: 1rem;\n",
              "  width: 1rem;\n",
              "  text-decoration: none;\n",
              "  /* unfitted */\n",
              "  color: var(--sklearn-color-unfitted-level-1);\n",
              "  border: var(--sklearn-color-unfitted-level-1) 1pt solid;\n",
              "}\n",
              "\n",
              "#sk-container-id-1 a.estimator_doc_link.fitted {\n",
              "  /* fitted */\n",
              "  border: var(--sklearn-color-fitted-level-1) 1pt solid;\n",
              "  color: var(--sklearn-color-fitted-level-1);\n",
              "}\n",
              "\n",
              "/* On hover */\n",
              "#sk-container-id-1 a.estimator_doc_link:hover {\n",
              "  /* unfitted */\n",
              "  background-color: var(--sklearn-color-unfitted-level-3);\n",
              "  color: var(--sklearn-color-background);\n",
              "  text-decoration: none;\n",
              "}\n",
              "\n",
              "#sk-container-id-1 a.estimator_doc_link.fitted:hover {\n",
              "  /* fitted */\n",
              "  background-color: var(--sklearn-color-fitted-level-3);\n",
              "}\n",
              "</style><div id=\"sk-container-id-1\" class=\"sk-top-container\"><div class=\"sk-text-repr-fallback\"><pre>CountVectorizer()</pre><b>In a Jupyter environment, please rerun this cell to show the HTML representation or trust the notebook. <br />On GitHub, the HTML representation is unable to render, please try loading this page with nbviewer.org.</b></div><div class=\"sk-container\" hidden><div class=\"sk-item\"><div class=\"sk-estimator fitted sk-toggleable\"><input class=\"sk-toggleable__control sk-hidden--visually\" id=\"sk-estimator-id-1\" type=\"checkbox\" checked><label for=\"sk-estimator-id-1\" class=\"sk-toggleable__label fitted sk-toggleable__label-arrow fitted\">&nbsp;&nbsp;CountVectorizer<a class=\"sk-estimator-doc-link fitted\" rel=\"noreferrer\" target=\"_blank\" href=\"https://scikit-learn.org/1.4/modules/generated/sklearn.feature_extraction.text.CountVectorizer.html\">?<span>Documentation for CountVectorizer</span></a><span class=\"sk-estimator-doc-link fitted\">i<span>Fitted</span></span></label><div class=\"sk-toggleable__content fitted\"><pre>CountVectorizer()</pre></div> </div></div></div></div>"
            ],
            "text/plain": [
              "CountVectorizer()"
            ]
          },
          "execution_count": 29,
          "metadata": {},
          "output_type": "execute_result"
        }
      ],
      "source": [
        "# Retrieve the best vectorizer configuration from the feature engineering results DataFrame\n",
        "best_vectorizer_name = feature_engineering_df.iloc[0][\"Vectorizer\"]\n",
        "best_vectorizer = vectorizer_configs[best_vectorizer_name]\n",
        "\n",
        "# Display the best vectorizer\n",
        "best_vectorizer"
      ]
    },
    {
      "cell_type": "markdown",
      "metadata": {
        "id": "qVXIFeP4yNTQ"
      },
      "source": [
        "### Exercise 3\n",
        "\n",
        "Choose one of the aspects to further improve the performance of the model (e.g. using different machine learning algorithms, tuning hyperparameters of a given algorithm, or also different strategies for handling class imbalance) and evaluate its effectiveness.\n",
        "\n",
        "Briefly summarize your main findings."
      ]
    },
    {
      "cell_type": "markdown",
      "metadata": {
        "id": "2HFw_2_q0OrN"
      },
      "source": [
        "#### Analysis of Random Search Cross-Validation as a method to further improve the models performance"
      ]
    },
    {
      "cell_type": "markdown",
      "metadata": {
        "id": "-df6oJy47qcG"
      },
      "source": [
        "There are several ways one could try to further improve the performance of the model. Besides data cleaning, one example would be to perform a cross-validation. Instead of performing a grid search cross-validation, it is also possible to perform a random search cross-validation, where the hyperparameters are not defined by hand, but are randomly drawn from defined distributions to improve the results."
      ]
    },
    {
      "cell_type": "code",
      "execution_count": 30,
      "metadata": {
        "id": "qBlELU-E__WC"
      },
      "outputs": [],
      "source": [
        "def perform_random_search_cv(df, vectorizer, hyperparameter_candidates):\n",
        "    \"\"\"\n",
        "    Performs random search cross-validation to find the best hyperparameters for Multinomial Naive Bayes model.\n",
        "\n",
        "    Parameters:\n",
        "    - df: DataFrame containing text data and labels\n",
        "    - vectorizer: Vectorizer object\n",
        "    - hyperparameter_candidates: Dictionary containing hyperparameter distributions\n",
        "\n",
        "    Returns:\n",
        "    - Tuple containing the best cross-validation score and the corresponding best hyperparameters\n",
        "    \"\"\"\n",
        "    model = MultinomialNB()\n",
        "\n",
        "    random_search = RandomizedSearchCV(model, hyperparameter_candidates, n_iter=100, cv=5, n_jobs=-1, random_state=RANDOM_STATE)\n",
        "\n",
        "    features = vectorize_data(vectorizer, df, best_config)\n",
        "    labels = df[\"rating\"]\n",
        "\n",
        "    random_search.fit(features, labels)\n",
        "\n",
        "    return random_search.best_score_, random_search.best_params_"
      ]
    },
    {
      "cell_type": "code",
      "execution_count": 31,
      "metadata": {
        "id": "uJT2AWKJXo3S"
      },
      "outputs": [],
      "source": [
        "# Dictionary of hyperparameter distributions for random search cross-validation\n",
        "hyperparameter_candidates = {\n",
        "    \"alpha\": np.logspace(-4, 1, 20),\n",
        "    \"fit_prior\": [True, False],\n",
        "    \"class_prior\": [None, [0.2, 0.2, 0.2, 0.2, 0.2]]\n",
        "}"
      ]
    },
    {
      "cell_type": "code",
      "execution_count": 32,
      "metadata": {
        "colab": {
          "base_uri": "https://localhost:8080/"
        },
        "id": "SiqDoSjcBMY-",
        "outputId": "d72b30df-8a77-4388-b0f9-7d3a915bb526"
      },
      "outputs": [
        {
          "name": "stderr",
          "output_type": "stream",
          "text": [
            "/home/mbrucker/code/fh-kiel/sem2_social_media_analytics/.venv/lib/python3.10/site-packages/sklearn/model_selection/_search.py:318: UserWarning: The total space of parameters 80 is smaller than n_iter=100. Running 80 iterations. For exhaustive searches, use GridSearchCV.\n",
            "  warnings.warn(\n"
          ]
        }
      ],
      "source": [
        "# Perform random search cross-validation to find the best hyperparameters for the Multinomial Naive Bayes model\n",
        "best_score, best_params = perform_random_search_cv(restaurant_reviews_df, best_vectorizer, hyperparameter_candidates)"
      ]
    },
    {
      "cell_type": "code",
      "execution_count": 33,
      "metadata": {
        "colab": {
          "base_uri": "https://localhost:8080/"
        },
        "id": "E1ymCjrhICiw",
        "outputId": "b3e35569-c81c-4273-8ed6-654c706af826"
      },
      "outputs": [
        {
          "data": {
            "text/plain": [
              "0.549"
            ]
          },
          "execution_count": 33,
          "metadata": {},
          "output_type": "execute_result"
        }
      ],
      "source": [
        "best_score"
      ]
    },
    {
      "cell_type": "code",
      "execution_count": 34,
      "metadata": {
        "colab": {
          "base_uri": "https://localhost:8080/"
        },
        "id": "2B1X3COemHTQ",
        "outputId": "d2990cc3-e05c-44ed-f8e2-6d0b8a54422b"
      },
      "outputs": [
        {
          "data": {
            "text/plain": [
              "{'fit_prior': False, 'class_prior': None, 'alpha': 1.623776739188721}"
            ]
          },
          "execution_count": 34,
          "metadata": {},
          "output_type": "execute_result"
        }
      ],
      "source": [
        "best_params"
      ]
    },
    {
      "cell_type": "code",
      "execution_count": 35,
      "metadata": {
        "colab": {
          "base_uri": "https://localhost:8080/",
          "height": 81
        },
        "id": "SKt06qGnYOzN",
        "outputId": "e7bd76d9-1f3c-49ef-fa6c-1822e7d9bf20"
      },
      "outputs": [
        {
          "data": {
            "text/html": [
              "<div>\n",
              "<style scoped>\n",
              "    .dataframe tbody tr th:only-of-type {\n",
              "        vertical-align: middle;\n",
              "    }\n",
              "\n",
              "    .dataframe tbody tr th {\n",
              "        vertical-align: top;\n",
              "    }\n",
              "\n",
              "    .dataframe thead th {\n",
              "        text-align: right;\n",
              "    }\n",
              "</style>\n",
              "<table border=\"1\" class=\"dataframe\">\n",
              "  <thead>\n",
              "    <tr style=\"text-align: right;\">\n",
              "      <th></th>\n",
              "      <th>Method</th>\n",
              "      <th>Accuracy</th>\n",
              "      <th>F1 Score</th>\n",
              "      <th>Feature Count</th>\n",
              "    </tr>\n",
              "  </thead>\n",
              "  <tbody>\n",
              "    <tr>\n",
              "      <th>0</th>\n",
              "      <td>Random Search Cross-Validation</td>\n",
              "      <td>0.6</td>\n",
              "      <td>0.55686</td>\n",
              "      <td>6045</td>\n",
              "    </tr>\n",
              "  </tbody>\n",
              "</table>\n",
              "</div>"
            ],
            "text/plain": [
              "                           Method  Accuracy  F1 Score  Feature Count\n",
              "0  Random Search Cross-Validation       0.6   0.55686           6045"
            ]
          },
          "execution_count": 35,
          "metadata": {},
          "output_type": "execute_result"
        }
      ],
      "source": [
        "results = []\n",
        "\n",
        "features = vectorize_data(best_vectorizer, restaurant_reviews_df, best_config)\n",
        "labels = restaurant_reviews_df[\"rating\"]\n",
        "\n",
        "X_train, X_test, y_train, y_test = train_test_split(features, labels, test_size=TEST_SIZE, shuffle=True, random_state=RANDOM_STATE)\n",
        "\n",
        "# Initialize and train the Multinomial Naive Bayes model with the best hyperparameters\n",
        "model = MultinomialNB(alpha=best_params[\"alpha\"], fit_prior=best_params[\"fit_prior\"], class_prior=best_params[\"class_prior\"])\n",
        "model.fit(X_train, y_train)\n",
        "\n",
        "predictions = model.predict(X_test)\n",
        "\n",
        "acc = accuracy_score(y_test, predictions)\n",
        "f1 = f1_score(y_test, predictions, average=\"weighted\")\n",
        "\n",
        "results.append({\n",
        "    \"Method\": \"Random Search Cross-Validation\",\n",
        "    \"Accuracy\": acc,\n",
        "    \"F1 Score\": f1,\n",
        "    \"Feature Count\": features.shape[1]\n",
        "})\n",
        "\n",
        "results_df = pd.DataFrame(results)\n",
        "\n",
        "sorted_results_df = results_df.sort_values(by=[\"Accuracy\", \"F1 Score\"], ascending=False)\n",
        "\n",
        "sorted_results_df"
      ]
    },
    {
      "cell_type": "markdown",
      "metadata": {
        "id": "raGemhWs-Ppp"
      },
      "source": [
        "|   | Method                          | Accuracy | F1 Score | Feature Count |\n",
        "|---|--------------------------------|----------|----------|---------------|\n",
        "| 0 | Random Search Cross-Validation | 0.600    | 0.557    | 6045          |"
      ]
    },
    {
      "cell_type": "markdown",
      "metadata": {
        "id": "rjIisXld8WGr"
      },
      "source": [
        "Using random search cross-validation, the accuracy and F1 score see slight improvements. These are only small improvements compared to the previous baselines, so other more sophisticated approaches should be taken to improve performance in order to get a good working model. Using this configuration, a production model would then be trained on the entire dataset to include all available data in the training."
      ]
    }
  ],
  "metadata": {
    "colab": {
      "provenance": []
    },
    "kernelspec": {
      "display_name": "Python 3",
      "name": "python3"
    },
    "language_info": {
      "codemirror_mode": {
        "name": "ipython",
        "version": 3
      },
      "file_extension": ".py",
      "mimetype": "text/x-python",
      "name": "python",
      "nbconvert_exporter": "python",
      "pygments_lexer": "ipython3",
      "version": "3.10.12"
    }
  },
  "nbformat": 4,
  "nbformat_minor": 0
}
