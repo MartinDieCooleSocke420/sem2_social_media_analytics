{
 "cells": [
  {
   "cell_type": "markdown",
   "metadata": {},
   "source": [
    "# Getting Data from Mastodon\n",
    "\n",
    "> Mastodon is an ActivityPub-based, Twitter-like federated social network node. It provides an API that allows you to interact with every aspect of the platform.\n",
    "\n",
    "In addition to commonly used social media platforms, Mattermost is decentralized. Anyone can host their own Mattermost server and connect it to other servers.\n",
    "\n",
    "This Python Notebook serves as a brief introduction on how to use the Mastodon API to request posts.\n",
    "\n",
    "Lets embark our jurney!!\n",
    "\n",
    "<img src=\"https://i.imgur.com/WuW3Qli.jpeg\" alt=\"Embark on DataScience\" width=\"200\"/>\n",
    "\n",
    "\n",
    "## API-Wrapper: Mastodon.py\n",
    "\n",
    "Apart from basic HTTP requests to the API, there is a simple Python wrapper available that implements the complete Mastodon API. The [documentation](https://mastodonpy.readthedocs.io/en/stable/index.html) provides good examples on how to use the library. Additionally, I recommend checking out [Martin's blog post](https://martinheinz.dev/blog/86) on using Mastodon.py, which provides a great hands-on approach."
   ]
  },
  {
   "cell_type": "code",
   "execution_count": 25,
   "metadata": {},
   "outputs": [],
   "source": [
    "# installing and importing the API wrapper\n",
    "\n",
    "# !pip install Mastodon.py\n",
    "import mastodon\n",
    "from mastodon import Mastodon"
   ]
  },
  {
   "cell_type": "markdown",
   "metadata": {},
   "source": [
    "## Selecting a Mastodon Instance and Getting the API Token\n",
    "\n",
    "Since Mastodon is organized in a decentralized manner, you need to choose a node to serve as your home instance. The selection of your home node has a significant impact on what will be shown on your timeline. You can find an overview of all Mastodon servers via this [link](https://joinmastodon.org/de/servers). For this notebook, we will be using [troet.cafe](https://troet.cafe) as it is the largest German server with approximately 8.5k active users. Please note that some Mastodon servers may prohibit or provide limited API access.\n",
    "\n",
    "Instead of using your username and password for authentication, it is recommended to use an application token. This token can be easily revoked and allows you to define the permissions of the application more precisely.\n",
    "\n",
    "To create an account on the Mastodon instance, visit https://*your-instance-url*/settings/applications. There, you can create a new application and obtain a new token.\n",
    "\n",
    "<img src=\"https://i.imgur.com/KYh5JMB.png\" width=500 />\n",
    "\n",
    "The next step is to obtain the access token from the newly created application. Please ensure that you do not share your tokens, as anyone with access can perform actions on your behalf.\n",
    "\n",
    "<img src=\"https://i.imgur.com/B4n6RaL.png\" width=500 />\n",
    "\n",
    "To ensure that the access token is not shared with other people, in this use case, I recommend adding the file \"access_Token.txt\" to the main directory of this repository. Please replace the file opening part with your access token."
   ]
  },
  {
   "cell_type": "code",
   "execution_count": 26,
   "metadata": {},
   "outputs": [],
   "source": [
    "# setting up the Mastodon API\n",
    "instance_url = \"https://troet.cafe\" \n",
    "access_token = open(\"../../access_token.txt\", \"r\").read()\n",
    "\n",
    "m = Mastodon(access_token=access_token, api_base_url=instance_url)"
   ]
  },
  {
   "cell_type": "markdown",
   "metadata": {},
   "source": [
    "## Getting Data\n",
    "\n",
    "For the sake of social media analysis **we will focus only on getting data from the API**, please note that the wrapper can also be used to post data if you are interested in further details regarding that topic i can reccomend the documentation to you."
   ]
  },
  {
   "cell_type": "code",
   "execution_count": 49,
   "metadata": {},
   "outputs": [],
   "source": [
    "# get the local timeline\n",
    "timeline = m.timeline_local()"
   ]
  },
  {
   "cell_type": "code",
   "execution_count": 50,
   "metadata": {},
   "outputs": [
    {
     "data": {
      "text/plain": [
       "{'id': 112126817862289523,\n",
       " 'created_at': datetime.datetime(2024, 3, 20, 7, 24, 22, 15000, tzinfo=tzutc()),\n",
       " 'in_reply_to_id': None,\n",
       " 'in_reply_to_account_id': None,\n",
       " 'sensitive': False,\n",
       " 'spoiler_text': '',\n",
       " 'visibility': 'public',\n",
       " 'language': 'de',\n",
       " 'uri': 'https://troet.cafe/users/Kunstadresse/statuses/112126817862289523',\n",
       " 'url': 'https://troet.cafe/@Kunstadresse/112126817862289523',\n",
       " 'replies_count': 0,\n",
       " 'reblogs_count': 0,\n",
       " 'favourites_count': 0,\n",
       " 'edited_at': None,\n",
       " 'favourited': False,\n",
       " 'reblogged': False,\n",
       " 'muted': False,\n",
       " 'bookmarked': False,\n",
       " 'content': '<p>Liebe Regina, danke für deine motivierende Rückmeldung :-)<br />\\xa0<br />Hallo Marianne, zunächst einmal, vielen Dank! Ich fühle mich bei der &quot;Kunstadresse&quot; sehr gut betreut. Ich finde es toll, wie du immer neue Wege findest, unsere Bücher vorzustellen.</p><p>Beste Grüße, Regina E.G. Schymiczek<br />\\xa0</p><p>Jetzt Mitglied bei Kunstadresse werden!<br />Kunstadresse.de/code24</p><p>Kunstadresse </p><p><a href=\"https://kunstadresse.de/?post_type=news_ticker_dir_ltg&amp;p=14561\" target=\"_blank\" rel=\"nofollow noopener noreferrer\"><span class=\"invisible\">https://</span><span class=\"ellipsis\">kunstadresse.de/?post_type=new</span><span class=\"invisible\">s_ticker_dir_ltg&amp;p=14561</span></a></p>',\n",
       " 'filtered': [],\n",
       " 'reblog': None,\n",
       " 'application': {'name': 'Blog2Social',\n",
       "  'website': 'https://www.blog2social.com'},\n",
       " 'account': {'id': 110180411384421522,\n",
       "  'username': 'Kunstadresse',\n",
       "  'acct': 'Kunstadresse',\n",
       "  'display_name': 'Kunstadresse',\n",
       "  'locked': False,\n",
       "  'bot': False,\n",
       "  'discoverable': True,\n",
       "  'group': False,\n",
       "  'created_at': datetime.datetime(2023, 4, 11, 0, 0, tzinfo=tzutc()),\n",
       "  'note': '<p>Kunstadresse bietet Informationen zu Kunst &amp; Kultur - Unser Portal ist noch im Aufbau.</p>',\n",
       "  'url': 'https://troet.cafe/@Kunstadresse',\n",
       "  'avatar': 'https://media.troet.cafe/troet.cafe/accounts/avatars/110/180/411/384/421/522/original/2c9d04be898410bd.jpg',\n",
       "  'avatar_static': 'https://media.troet.cafe/troet.cafe/accounts/avatars/110/180/411/384/421/522/original/2c9d04be898410bd.jpg',\n",
       "  'header': 'https://media.troet.cafe/troet.cafe/accounts/headers/110/180/411/384/421/522/original/89a4e708b6dd306b.png',\n",
       "  'header_static': 'https://media.troet.cafe/troet.cafe/accounts/headers/110/180/411/384/421/522/original/89a4e708b6dd306b.png',\n",
       "  'followers_count': 70,\n",
       "  'following_count': 220,\n",
       "  'statuses_count': 1017,\n",
       "  'last_status_at': datetime.datetime(2024, 3, 20, 0, 0),\n",
       "  'noindex': True,\n",
       "  'emojis': [],\n",
       "  'roles': [],\n",
       "  'fields': [{'name': 'Impressum',\n",
       "    'value': '<a href=\"https://kunstadresse.de/impressum/\" target=\"_blank\" rel=\"nofollow noopener noreferrer me\"><span class=\"invisible\">https://</span><span class=\"\">kunstadresse.de/impressum/</span><span class=\"invisible\"></span></a>',\n",
       "    'verified_at': '2023-04-11T13:59:02.357+00:00'},\n",
       "   {'name': 'Datenschutz',\n",
       "    'value': '<a href=\"https://kunstadresse.de/datenschutz/\" target=\"_blank\" rel=\"nofollow noopener noreferrer me\"><span class=\"invisible\">https://</span><span class=\"\">kunstadresse.de/datenschutz/</span><span class=\"invisible\"></span></a>',\n",
       "    'verified_at': '2023-04-11T13:59:04.885+00:00'}]},\n",
       " 'media_attachments': [],\n",
       " 'mentions': [],\n",
       " 'tags': [],\n",
       " 'emojis': [],\n",
       " 'card': None,\n",
       " 'poll': None}"
      ]
     },
     "execution_count": 50,
     "metadata": {},
     "output_type": "execute_result"
    }
   ],
   "source": [
    "# display the first post\n",
    "\n",
    "timeline[0]"
   ]
  },
  {
   "cell_type": "markdown",
   "metadata": {},
   "source": [
    "As you can see in the return above the post entry includes different attributes you can use for your analysis\n",
    "\n",
    "\n",
    "in the following we are going to focus on the application used to create a posting "
   ]
  },
  {
   "cell_type": "code",
   "execution_count": 51,
   "metadata": {},
   "outputs": [
    {
     "name": "stdout",
     "output_type": "stream",
     "text": [
      "Blog2Social\n",
      "Web\n",
      "Mastodon for Android\n",
      "Fedilab\n",
      "Fedilab\n",
      "Mastodon for iOS\n",
      "Tusky\n",
      "Web\n",
      "Mastodon for Android\n",
      "Web\n",
      "Tusky\n",
      "Tusky\n",
      "Web\n",
      "Tusky\n",
      "Web\n",
      "Mastodon for Android\n",
      "Ivory for iOS\n",
      "Mastodon for iOS\n",
      "Tusky\n",
      "Mastodon for Android\n"
     ]
    }
   ],
   "source": [
    "# get the application used for all posts from the timeline\n",
    "\n",
    "\n",
    "\n",
    "for post in timeline:\n",
    "    if \"application\" in post:\n",
    "        print(post[\"application\"][\"name\"])\n",
    "#        TODO: put put the stuff into an array and save it to a file\n",
    "\n",
    "    else:\n",
    "        print(\"No application specified\")\n"
   ]
  },
  {
   "cell_type": "markdown",
   "metadata": {},
   "source": [
    "# writing the collected data to a file"
   ]
  },
  {
   "cell_type": "code",
   "execution_count": 18,
   "metadata": {},
   "outputs": [],
   "source": [
    "# extract the id, username, timestamp and content of the timeline and write it to a csv in the data folder\n",
    "\n",
    "import csv\n",
    "with open('data/timeline.csv', mode='w') as timeline_file:\n",
    "    timeline_writer = csv.writer(timeline_file, delimiter=',', quotechar='\"', quoting=csv.QUOTE_MINIMAL)\n",
    "    timeline_writer.writerow(['id', 'username', 'timestamp', 'content'])\n",
    "    for post in timeline:\n",
    "        timeline_writer.writerow([post['id'], post['account']['username'], post['created_at'], post['content']])"
   ]
  }
 ],
 "metadata": {
  "kernelspec": {
   "display_name": ".venv",
   "language": "python",
   "name": "python3"
  },
  "language_info": {
   "codemirror_mode": {
    "name": "ipython",
    "version": 3
   },
   "file_extension": ".py",
   "mimetype": "text/x-python",
   "name": "python",
   "nbconvert_exporter": "python",
   "pygments_lexer": "ipython3",
   "version": "3.12.2"
  }
 },
 "nbformat": 4,
 "nbformat_minor": 2
}
